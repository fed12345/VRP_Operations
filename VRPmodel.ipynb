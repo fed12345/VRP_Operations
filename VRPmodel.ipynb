{
 "cells": [
  {
   "cell_type": "markdown",
   "id": "bf2d6383-3676-4bff-9f4e-4584dd69cdb1",
   "metadata": {},
   "source": [
    "# *Drone Delivery: a Vehicle Routing Problem*\n",
    "\n",
    "Authors: Adrian Menor, Federico Magri, Youssef Farah\n",
    "\n",
    "// add description "
   ]
  },
  {
   "cell_type": "markdown",
   "id": "17efc318-5ed2-40ef-ac4a-f7c087af3930",
   "metadata": {},
   "source": [
    "## Import Packages"
   ]
  },
  {
   "cell_type": "code",
   "execution_count": 16,
   "id": "c033ff87-6a05-4176-ae0c-2c63e8d98fdb",
   "metadata": {},
   "outputs": [],
   "source": [
    "import numpy as np\n",
    "import numpy as np\n",
    "import matplotlib.pyplot as plt\n",
    "import gurobipy as gp\n",
    "from gurobipy import GRB\n",
    "import random"
   ]
  },
  {
   "cell_type": "markdown",
   "id": "7186d4ec-7c9e-4ee3-bb6f-9d9fca79aa9b",
   "metadata": {},
   "source": [
    "## VRP Model"
   ]
  },
  {
   "cell_type": "markdown",
   "id": "10fcc090-dbea-446c-9afd-4118bb12c039",
   "metadata": {},
   "source": [
    "### Classes "
   ]
  },
  {
   "cell_type": "code",
   "execution_count": 17,
   "id": "f59c015e-da7b-41d6-9ea9-425dfba9bcaa",
   "metadata": {},
   "outputs": [],
   "source": [
    "#DATASET \n",
    "#Here we create the dataset\n",
    "#Initialize\n",
    "class Drones():\n",
    "    def __init__(self, name, maxspeed, maxpayload, number_of_drones):\n",
    "        self.name = name\n",
    "        self.maxspeed = maxspeed\n",
    "        self.maxpayload = maxpayload\n",
    "        self.number_of_drones = number_of_drones\n",
    "\n",
    "class Clients():\n",
    "    number_of_clients = 0\n",
    "    def __init__(self, number, x_coord, y_coord, demand):\n",
    "        self.number = number\n",
    "        self.x_coord = x_coord\n",
    "        self.y_coord = y_coord\n",
    "        self.demand = demand\n",
    "        Clients.number_of_clients += 1"
   ]
  },
  {
   "cell_type": "markdown",
   "id": "5d136d91-e953-41ee-8bb5-a0200484adcd",
   "metadata": {},
   "source": [
    "### Sample Dataset"
   ]
  },
  {
   "cell_type": "code",
   "execution_count": 22,
   "id": "81cee551-cb8f-4eba-b620-42e3dc4e9fd4",
   "metadata": {},
   "outputs": [],
   "source": [
    "Clients.number_of_clients = 0\n",
    "drones = Drones(\"Amazon Drone\", 10, 5, 5)#(name, maxspeed, maxpayload, number_of_drones)\n",
    "\n",
    "clients_list = []\n",
    "for i in range(1,11):\n",
    "    x_cord = random.sample(range(-100,100),1)[0]\n",
    "    y_cord = random.sample(range(-100,100),1)[0]\n",
    "    client = Clients(i, x_cord,y_cord, random.randint(1,5))\n",
    "    clients_list.append(client)\n",
    "\n",
    "T = 60 # [s] total delivery duration\n"
   ]
  },
  {
   "cell_type": "code",
   "execution_count": 23,
   "id": "145c9c14-3ed4-4400-b61c-1fe69ab960c8",
   "metadata": {},
   "outputs": [
    {
     "name": "stdout",
     "output_type": "stream",
     "text": [
      "10\n"
     ]
    }
   ],
   "source": [
    "print(len(clients_list))"
   ]
  },
  {
   "cell_type": "markdown",
   "id": "21699d32-f9c8-4a31-8425-d361adade6e7",
   "metadata": {},
   "source": [
    "## Model Setup"
   ]
  },
  {
   "cell_type": "code",
   "execution_count": 24,
   "id": "8245223f-2d32-4545-a9cb-6fddcf42c79d",
   "metadata": {},
   "outputs": [],
   "source": [
    "# Basic problem variables\n",
    "n = Clients.number_of_clients # nodes\n",
    "clients = [i for i in range(1,n+1)]\n",
    "nodes = [0]+clients\n",
    "N_N_0 = [(i,j) for i in nodes for j in clients if i!=j]\n",
    "xc = [0]+[xc.x_coord for xc in clients_list] # customer x locations\n",
    "yc = [0]+[yc.y_coord for yc in clients_list] #rnd.rand(n-1)*100 # customer y locations"
   ]
  },
  {
   "cell_type": "code",
   "execution_count": 25,
   "id": "403db4b0-0e05-4d8e-a477-6aee6a7a4160",
   "metadata": {},
   "outputs": [
    {
     "name": "stdout",
     "output_type": "stream",
     "text": [
      "10\n"
     ]
    }
   ],
   "source": [
    "print(n)"
   ]
  },
  {
   "cell_type": "code",
   "execution_count": 26,
   "id": "414094de-9a38-418f-b3d7-bfca460fb1ca",
   "metadata": {},
   "outputs": [],
   "source": [
    "# Drone parameters\n",
    "M = drones.number_of_drones # Number of drones\n",
    "K = 100 # upper bound payload weight\n",
    "v = drones.maxspeed # drone speed [m/s]\n",
    "Q = drones.maxpayload# max drone payload [kg] "
   ]
  },
  {
   "cell_type": "code",
   "execution_count": 27,
   "id": "468b048c-13e0-4839-8c57-a7b008438427",
   "metadata": {},
   "outputs": [],
   "source": [
    "# Decision variables\n",
    "arcs = [(i,j) for i in nodes for j in nodes if i!=j] # fully connected links\n",
    "sigma_var = [(i,j) for i in nodes[1:] for j in nodes[1:]] # going through depot\n",
    "y = arcs # payload weight between paths\n",
    "t = [i for i in nodes] # time at node i\n",
    "a = [i for i in clients] # time between node i and depot"
   ]
  },
  {
   "cell_type": "code",
   "execution_count": 28,
   "id": "658f91e3-d2d0-4c41-a703-b6831fd7404a",
   "metadata": {},
   "outputs": [
    {
     "name": "stdout",
     "output_type": "stream",
     "text": [
      "110\n"
     ]
    }
   ],
   "source": [
    "print(len(arcs))"
   ]
  },
  {
   "cell_type": "code",
   "execution_count": 29,
   "id": "2a4688ab-5fcd-4803-8f03-d5b4c5a90b6d",
   "metadata": {},
   "outputs": [],
   "source": [
    "# Costs\n",
    "s = {(i, j): np.hypot(xc[i]-xc[j], yc[i]-yc[j]) for i, j in arcs} # euclidean distances\n",
    "D = {i.number: i.demand for i in clients_list}# demand of client rnd.randint(1,5)"
   ]
  },
  {
   "cell_type": "code",
   "execution_count": 30,
   "id": "5d8d0acf-de0b-4eb0-a03a-fa380d988e7d",
   "metadata": {},
   "outputs": [
    {
     "name": "stdout",
     "output_type": "stream",
     "text": [
      "Restricted license - for non-production use only - expires 2023-10-25\n"
     ]
    }
   ],
   "source": [
    "### Creating the Model ###\n",
    "m = gp.Model('CVRP')"
   ]
  },
  {
   "cell_type": "code",
   "execution_count": 32,
   "id": "278e4ae6-6096-4572-a968-c4bf82429400",
   "metadata": {},
   "outputs": [],
   "source": [
    "# Adding decision variables\n",
    "x = m.addVars(arcs,vtype = GRB.BINARY,name='x') # x = arcs \n",
    "sigma = m.addVars(sigma_var,vtype = GRB.BINARY,name='sigma') \n",
    "y = m.addVars(y,vtype = GRB.CONTINUOUS,name='y')\n",
    "t = m.addVars(t,vtype = GRB.CONTINUOUS,name='t')\n",
    "a = m.addVars(a,vtype = GRB.CONTINUOUS,name='a')"
   ]
  },
  {
   "cell_type": "code",
   "execution_count": 35,
   "id": "64381eb3-5b34-4d8c-97e4-3595d6b2c7b8",
   "metadata": {},
   "outputs": [],
   "source": [
    "# Objective function\n",
    "m.setObjective(gp.quicksum(s[i,j]*x[i,j] for i,j in arcs),GRB.MINIMIZE)"
   ]
  },
  {
   "cell_type": "code",
   "execution_count": 36,
   "id": "191d8800-af3b-4e26-bc72-4a95421d71ff",
   "metadata": {},
   "outputs": [
    {
     "data": {
      "text/plain": [
       "{(0, 1): <gurobi.Constr *Awaiting Model Update*>,\n",
       " (0, 2): <gurobi.Constr *Awaiting Model Update*>,\n",
       " (0, 3): <gurobi.Constr *Awaiting Model Update*>,\n",
       " (0, 4): <gurobi.Constr *Awaiting Model Update*>,\n",
       " (0, 5): <gurobi.Constr *Awaiting Model Update*>,\n",
       " (0, 6): <gurobi.Constr *Awaiting Model Update*>,\n",
       " (0, 7): <gurobi.Constr *Awaiting Model Update*>,\n",
       " (0, 8): <gurobi.Constr *Awaiting Model Update*>,\n",
       " (0, 9): <gurobi.Constr *Awaiting Model Update*>,\n",
       " (0, 10): <gurobi.Constr *Awaiting Model Update*>,\n",
       " (1, 0): <gurobi.Constr *Awaiting Model Update*>,\n",
       " (1, 2): <gurobi.Constr *Awaiting Model Update*>,\n",
       " (1, 3): <gurobi.Constr *Awaiting Model Update*>,\n",
       " (1, 4): <gurobi.Constr *Awaiting Model Update*>,\n",
       " (1, 5): <gurobi.Constr *Awaiting Model Update*>,\n",
       " (1, 6): <gurobi.Constr *Awaiting Model Update*>,\n",
       " (1, 7): <gurobi.Constr *Awaiting Model Update*>,\n",
       " (1, 8): <gurobi.Constr *Awaiting Model Update*>,\n",
       " (1, 9): <gurobi.Constr *Awaiting Model Update*>,\n",
       " (1, 10): <gurobi.Constr *Awaiting Model Update*>,\n",
       " (2, 0): <gurobi.Constr *Awaiting Model Update*>,\n",
       " (2, 1): <gurobi.Constr *Awaiting Model Update*>,\n",
       " (2, 3): <gurobi.Constr *Awaiting Model Update*>,\n",
       " (2, 4): <gurobi.Constr *Awaiting Model Update*>,\n",
       " (2, 5): <gurobi.Constr *Awaiting Model Update*>,\n",
       " (2, 6): <gurobi.Constr *Awaiting Model Update*>,\n",
       " (2, 7): <gurobi.Constr *Awaiting Model Update*>,\n",
       " (2, 8): <gurobi.Constr *Awaiting Model Update*>,\n",
       " (2, 9): <gurobi.Constr *Awaiting Model Update*>,\n",
       " (2, 10): <gurobi.Constr *Awaiting Model Update*>,\n",
       " (3, 0): <gurobi.Constr *Awaiting Model Update*>,\n",
       " (3, 1): <gurobi.Constr *Awaiting Model Update*>,\n",
       " (3, 2): <gurobi.Constr *Awaiting Model Update*>,\n",
       " (3, 4): <gurobi.Constr *Awaiting Model Update*>,\n",
       " (3, 5): <gurobi.Constr *Awaiting Model Update*>,\n",
       " (3, 6): <gurobi.Constr *Awaiting Model Update*>,\n",
       " (3, 7): <gurobi.Constr *Awaiting Model Update*>,\n",
       " (3, 8): <gurobi.Constr *Awaiting Model Update*>,\n",
       " (3, 9): <gurobi.Constr *Awaiting Model Update*>,\n",
       " (3, 10): <gurobi.Constr *Awaiting Model Update*>,\n",
       " (4, 0): <gurobi.Constr *Awaiting Model Update*>,\n",
       " (4, 1): <gurobi.Constr *Awaiting Model Update*>,\n",
       " (4, 2): <gurobi.Constr *Awaiting Model Update*>,\n",
       " (4, 3): <gurobi.Constr *Awaiting Model Update*>,\n",
       " (4, 5): <gurobi.Constr *Awaiting Model Update*>,\n",
       " (4, 6): <gurobi.Constr *Awaiting Model Update*>,\n",
       " (4, 7): <gurobi.Constr *Awaiting Model Update*>,\n",
       " (4, 8): <gurobi.Constr *Awaiting Model Update*>,\n",
       " (4, 9): <gurobi.Constr *Awaiting Model Update*>,\n",
       " (4, 10): <gurobi.Constr *Awaiting Model Update*>,\n",
       " (5, 0): <gurobi.Constr *Awaiting Model Update*>,\n",
       " (5, 1): <gurobi.Constr *Awaiting Model Update*>,\n",
       " (5, 2): <gurobi.Constr *Awaiting Model Update*>,\n",
       " (5, 3): <gurobi.Constr *Awaiting Model Update*>,\n",
       " (5, 4): <gurobi.Constr *Awaiting Model Update*>,\n",
       " (5, 6): <gurobi.Constr *Awaiting Model Update*>,\n",
       " (5, 7): <gurobi.Constr *Awaiting Model Update*>,\n",
       " (5, 8): <gurobi.Constr *Awaiting Model Update*>,\n",
       " (5, 9): <gurobi.Constr *Awaiting Model Update*>,\n",
       " (5, 10): <gurobi.Constr *Awaiting Model Update*>,\n",
       " (6, 0): <gurobi.Constr *Awaiting Model Update*>,\n",
       " (6, 1): <gurobi.Constr *Awaiting Model Update*>,\n",
       " (6, 2): <gurobi.Constr *Awaiting Model Update*>,\n",
       " (6, 3): <gurobi.Constr *Awaiting Model Update*>,\n",
       " (6, 4): <gurobi.Constr *Awaiting Model Update*>,\n",
       " (6, 5): <gurobi.Constr *Awaiting Model Update*>,\n",
       " (6, 7): <gurobi.Constr *Awaiting Model Update*>,\n",
       " (6, 8): <gurobi.Constr *Awaiting Model Update*>,\n",
       " (6, 9): <gurobi.Constr *Awaiting Model Update*>,\n",
       " (6, 10): <gurobi.Constr *Awaiting Model Update*>,\n",
       " (7, 0): <gurobi.Constr *Awaiting Model Update*>,\n",
       " (7, 1): <gurobi.Constr *Awaiting Model Update*>,\n",
       " (7, 2): <gurobi.Constr *Awaiting Model Update*>,\n",
       " (7, 3): <gurobi.Constr *Awaiting Model Update*>,\n",
       " (7, 4): <gurobi.Constr *Awaiting Model Update*>,\n",
       " (7, 5): <gurobi.Constr *Awaiting Model Update*>,\n",
       " (7, 6): <gurobi.Constr *Awaiting Model Update*>,\n",
       " (7, 8): <gurobi.Constr *Awaiting Model Update*>,\n",
       " (7, 9): <gurobi.Constr *Awaiting Model Update*>,\n",
       " (7, 10): <gurobi.Constr *Awaiting Model Update*>,\n",
       " (8, 0): <gurobi.Constr *Awaiting Model Update*>,\n",
       " (8, 1): <gurobi.Constr *Awaiting Model Update*>,\n",
       " (8, 2): <gurobi.Constr *Awaiting Model Update*>,\n",
       " (8, 3): <gurobi.Constr *Awaiting Model Update*>,\n",
       " (8, 4): <gurobi.Constr *Awaiting Model Update*>,\n",
       " (8, 5): <gurobi.Constr *Awaiting Model Update*>,\n",
       " (8, 6): <gurobi.Constr *Awaiting Model Update*>,\n",
       " (8, 7): <gurobi.Constr *Awaiting Model Update*>,\n",
       " (8, 9): <gurobi.Constr *Awaiting Model Update*>,\n",
       " (8, 10): <gurobi.Constr *Awaiting Model Update*>,\n",
       " (9, 0): <gurobi.Constr *Awaiting Model Update*>,\n",
       " (9, 1): <gurobi.Constr *Awaiting Model Update*>,\n",
       " (9, 2): <gurobi.Constr *Awaiting Model Update*>,\n",
       " (9, 3): <gurobi.Constr *Awaiting Model Update*>,\n",
       " (9, 4): <gurobi.Constr *Awaiting Model Update*>,\n",
       " (9, 5): <gurobi.Constr *Awaiting Model Update*>,\n",
       " (9, 6): <gurobi.Constr *Awaiting Model Update*>,\n",
       " (9, 7): <gurobi.Constr *Awaiting Model Update*>,\n",
       " (9, 8): <gurobi.Constr *Awaiting Model Update*>,\n",
       " (9, 10): <gurobi.Constr *Awaiting Model Update*>,\n",
       " (10, 0): <gurobi.Constr *Awaiting Model Update*>,\n",
       " (10, 1): <gurobi.Constr *Awaiting Model Update*>,\n",
       " (10, 2): <gurobi.Constr *Awaiting Model Update*>,\n",
       " (10, 3): <gurobi.Constr *Awaiting Model Update*>,\n",
       " (10, 4): <gurobi.Constr *Awaiting Model Update*>,\n",
       " (10, 5): <gurobi.Constr *Awaiting Model Update*>,\n",
       " (10, 6): <gurobi.Constr *Awaiting Model Update*>,\n",
       " (10, 7): <gurobi.Constr *Awaiting Model Update*>,\n",
       " (10, 8): <gurobi.Constr *Awaiting Model Update*>,\n",
       " (10, 9): <gurobi.Constr *Awaiting Model Update*>}"
      ]
     },
     "execution_count": 36,
     "metadata": {},
     "output_type": "execute_result"
    }
   ],
   "source": [
    "# Constraints\n",
    "m.addConstrs(gp.quicksum(x[i,j] for j in nodes if j!= i) == 1 for i in clients) # (4a)\n",
    "m.addConstrs(gp.quicksum(x[i,j] for j in nodes if j!= i)-gp.quicksum(x[j,i] for j in nodes if j!= i)== 0 for i in nodes ) #(4b)\n",
    "\n",
    "#Reusability Constrains\n",
    "m.addConstrs(gp.quicksum(sigma[i,j] for j in clients) <= x[i,0] for i in clients) # (5a)\n",
    "m.addConstrs(gp.quicksum(sigma[j,i] for j in clients) <= x[0,i] for i in clients) # (5b)\n",
    "m.addConstr(gp.quicksum(x[0,i] for i in clients) - gp.quicksum(sigma[i,j] for i,j in sigma_var if i!=j) <= M) # (5c)\n",
    "#Demand Contrains\n",
    "m.addConstrs(gp.quicksum(y[j,i] for j in nodes if j!=i) - gp.quicksum(y[i,j] for j in nodes if j!=i)==D[i] for i in clients) # (6a)\n",
    "m.addConstrs(y[i,j] <= K*x[i,j] for i,j in arcs if i!=j) # (6b)\n",
    "#Time Constrains\n",
    "m.addConstrs(t[i] - t[j] + s[i,j]/v <= K* (1-x[i,j]) for i,j in N_N_0 if i!=j) # (7a)\n",
    "m.addConstrs(t[i] - a[i] + s[i,0]/v <= K * (1 - x[i,0]) for i in clients) # (7b)\n",
    "m.addConstrs(a[i] - t[j] + s[0,j]/v <= K * (1 - sigma[i,j]) for i,j in sigma_var if i!=j) # (7c)\n",
    "m.addConstrs(t[i] <= T  for i in clients) # (7d)  and (7e) CHECK THIS CONSTRAINT\n",
    "#\n",
    "m.addConstrs(y[i,j] <= Q * x[i,j] for i,j in arcs if i!=j) #(8a)"
   ]
  },
  {
   "cell_type": "code",
   "execution_count": 37,
   "id": "290edcda-f178-466a-b6e7-5015e0fe8af9",
   "metadata": {},
   "outputs": [
    {
     "name": "stdout",
     "output_type": "stream",
     "text": [
      "Set parameter TimeLimit to value 100\n",
      "Gurobi Optimizer version 9.5.0 build v9.5.0rc5 (mac64[x86])\n",
      "Thread count: 2 physical cores, 4 logical processors, using up to 4 threads\n",
      "Optimize a model with 964 rows, 341 columns and 3780 nonzeros\n",
      "Model fingerprint: 0x5eeb2343\n",
      "Variable types: 131 continuous, 210 integer (210 binary)\n",
      "Coefficient statistics:\n",
      "  Matrix range     [1e+00, 1e+02]\n",
      "  Objective range  [9e+00, 2e+02]\n",
      "  Bounds range     [1e+00, 1e+00]\n",
      "  RHS range        [1e+00, 1e+02]\n",
      "Presolve removed 719 rows and 122 columns\n",
      "Presolve time: 0.03s\n",
      "Presolved: 245 rows, 219 columns, 2088 nonzeros\n",
      "Variable types: 73 continuous, 146 integer (146 binary)\n",
      "\n",
      "Root relaxation: objective 1.139852e+03, 82 iterations, 0.00 seconds (0.00 work units)\n",
      "\n",
      "    Nodes    |    Current Node    |     Objective Bounds      |     Work\n",
      " Expl Unexpl |  Obj  Depth IntInf | Incumbent    BestBd   Gap | It/Node Time\n",
      "\n",
      "     0     0 1139.85217    0   12          - 1139.85217      -     -    0s\n",
      "H    0     0                    1429.7072631 1139.85217  20.3%     -    0s\n",
      "H    0     0                    1291.7019625 1139.85217  11.8%     -    0s\n",
      "H    0     0                    1270.2602968 1139.85217  10.3%     -    0s\n",
      "     0     0 1173.02754    0   20 1270.26030 1173.02754  7.65%     -    0s\n",
      "     0     0 1173.02754    0   22 1270.26030 1173.02754  7.65%     -    0s\n",
      "     0     0 1218.73028    0   17 1270.26030 1218.73028  4.06%     -    0s\n",
      "     0     0 1221.90538    0   16 1270.26030 1221.90538  3.81%     -    0s\n",
      "     0     0 1221.99065    0   12 1270.26030 1221.99065  3.80%     -    0s\n",
      "     0     0 1264.81994    0    9 1270.26030 1264.81994  0.43%     -    0s\n",
      "     0     0 1265.97434    0   13 1270.26030 1265.97434  0.34%     -    0s\n",
      "     0     0 1265.97434    0   13 1270.26030 1265.97434  0.34%     -    0s\n",
      "     0     0     cutoff    0      1270.26030 1270.26030  0.00%     -    0s\n",
      "\n",
      "Cutting planes:\n",
      "  Gomory: 2\n",
      "  Implied bound: 21\n",
      "  Clique: 4\n",
      "  MIR: 13\n",
      "  Flow cover: 10\n",
      "  Flow path: 3\n",
      "  GUB cover: 1\n",
      "  Network: 7\n",
      "  Relax-and-lift: 6\n",
      "\n",
      "Explored 1 nodes (224 simplex iterations) in 0.22 seconds (0.04 work units)\n",
      "Thread count was 4 (of 4 available processors)\n",
      "\n",
      "Solution count 3: 1270.26 1291.7 1429.71 \n",
      "\n",
      "Optimal solution found (tolerance 1.00e-04)\n",
      "Best objective 1.270260296834e+03, best bound 1.270260296834e+03, gap 0.0000%\n"
     ]
    }
   ],
   "source": [
    "m.Params.timeLimit = 100 #[s]\n",
    "m.optimize()"
   ]
  },
  {
   "cell_type": "code",
   "execution_count": 38,
   "id": "c45a2525-6bec-4aac-8a11-8d1ab92b8307",
   "metadata": {},
   "outputs": [
    {
     "data": {
      "image/png": "[encoded data removed]",
      "text/plain": [
       "<Figure size 432x288 with 1 Axes>"
      ]
     },
     "metadata": {
      "needs_background": "light"
     },
     "output_type": "display_data"
    }
   ],
   "source": [
    "#Plotting\n",
    "active_arcs = [a for a in arcs if x[a].x > 0.99]\n",
    "\n",
    "for i, j in active_arcs:\n",
    "    plt.plot([xc[i], xc[j]], [yc[i], yc[j]], c='g', zorder=0)\n",
    "plt.plot(xc[0], yc[0], c='r', marker='s')\n",
    "plt.scatter(xc[1:], yc[1:], c='b')\n",
    "plt.grid()\n",
    "plt.show()"
   ]
  },
  {
   "cell_type": "code",
   "execution_count": null,
   "id": "fd8cc458-89d2-417b-afbc-6aa5b4a58018",
   "metadata": {
    "tags": []
   },
   "outputs": [],
   "source": []
  },
  {
   "cell_type": "code",
   "execution_count": null,
   "id": "5ad83071-6823-4e36-a572-14c37ec20228",
   "metadata": {},
   "outputs": [],
   "source": []
  }
 ],
 "metadata": {
  "kernelspec": {
   "display_name": "Python 3",
   "language": "python",
   "name": "python3"
  },
  "language_info": {
   "codemirror_mode": {
    "name": "ipython",
    "version": 3
   },
   "file_extension": ".py",
   "mimetype": "text/x-python",
   "name": "python",
   "nbconvert_exporter": "python",
   "pygments_lexer": "ipython3",
   "version": "3.8.8"
  }
 },
 "nbformat": 4,
 "nbformat_minor": 5
}
