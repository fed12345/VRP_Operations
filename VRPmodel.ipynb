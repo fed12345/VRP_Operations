{
 "cells": [
  {
   "cell_type": "code",
   "execution_count": 68,
   "id": "470d987d-5730-4744-8954-fa60bcf3d9ac",
   "metadata": {},
   "outputs": [],
   "source": [
    "import gurobipy as gp\n",
    "from gurobipy import GRB\n",
    "import pickle\n",
    "from copy import deepcopy\n",
    "import random \n",
    "import numpy as np\n",
    "from matplotlib import pyplot as plt\n"
   ]
  },
  {
   "cell_type": "code",
   "execution_count": 69,
   "id": "59199968-ae09-4c21-9f75-ef9d7d056fa5",
   "metadata": {},
   "outputs": [],
   "source": [
    "# Nodes\n",
    "n = 7\n",
    "clients = [ i for i in range(n) if i !=0]\n",
    "nodes = [0]+clients #+[n-1]\n",
    "arcs = [(i,j) for i in nodes for j in nodes if i!=j]\n",
    "cost = random.sample(range(20,200),len(arcs))\n",
    "c = { arcs[i]:  cost[i] for i in range(len(arcs))}\n",
    "\n",
    "np.random.seed(0)\n",
    "q = {n:np.random.randint(10,15) for n in clients}\n",
    "#q[0] = 0\n",
    "#q[6] = 0\n",
    "Q = 1000\n",
    "\n",
    "# coordinates\n",
    "X = np.random.rand(len(nodes))*100\n",
    "Y = np.random.rand(len(nodes))*100"
   ]
  },
  {
   "cell_type": "code",
   "execution_count": 70,
   "id": "57c8402c-ff0b-465b-8fa2-8b856d5339b7",
   "metadata": {},
   "outputs": [],
   "source": [
    "# distance\n",
    "distance = {(i,j): np.hypot(X[i]-X[j],Y[i]-Y[j]) for i in nodes for j in nodes if i!=j}\n"
   ]
  },
  {
   "cell_type": "code",
   "execution_count": 71,
   "id": "ed4c6bd3-ab30-4ba9-9961-550f7485ca14",
   "metadata": {},
   "outputs": [
    {
     "data": {
      "image/png": "[encoded data removed]",
      "text/plain": [
       "<Figure size 864x360 with 1 Axes>"
      ]
     },
     "metadata": {
      "needs_background": "light"
     },
     "output_type": "display_data"
    }
   ],
   "source": [
    "plt.figure(figsize=(12,5))\n",
    "plt.scatter(X,Y,color =  'blue')\n",
    "\n",
    "#DC\n",
    "plt.scatter(X[0],Y[0],color = 'red', marker='D')\n",
    "plt.annotate('DC',(X[0]-1,Y[0]-5.5))\n",
    "\n",
    "for i in clients:\n",
    "    plt.annotate('$q_{%d}=%d$'%(i,q[i]),(X[i]-1,Y[i]-5.5))\n",
    "    \n",
    "plt.xlabel('Distance X')\n",
    "plt.ylabel('Distance Y')\n",
    "plt.title('Solution Travel Salesman Problem')\n",
    "plt.show()"
   ]
  },
  {
   "cell_type": "code",
   "execution_count": 72,
   "id": "0d54d3f1-3d6a-488d-a36b-22e9f106549e",
   "metadata": {},
   "outputs": [],
   "source": [
    "# not connected!\n",
    "#arcs = [(0,1),(0,2), (0,5), (1,2),(1,3),(1,4),(1,5),(1,6),(2,3),(2,6),(3,4),(4,5),(5,6),(2,1),(3,1),(4,1),(5,1),(3,2),(4,3),(5,4)]\n",
    "#cost = [11,10,10,5,15,15,5,10,15,10,20,15,10,5,15,15,5,15,20,15]\n",
    "#c = { arcs[i]:  cost[i] for i in range(len(arcs))}"
   ]
  },
  {
   "cell_type": "code",
   "execution_count": 73,
   "id": "e93f6c56-b9ba-4d05-be99-4b40d67fbee0",
   "metadata": {},
   "outputs": [],
   "source": [
    "# Create Model\n",
    "m = gp.Model('CVRP')"
   ]
  },
  {
   "cell_type": "code",
   "execution_count": 74,
   "id": "78f2f7d1-73c7-4ba2-86b4-6fe6ec70d6e0",
   "metadata": {},
   "outputs": [],
   "source": [
    "# Adding variables\n",
    "x = m.addVars(arcs,vtype = GRB.BINARY,name='x')         # x = arcs\n",
    "u = m.addVars(clients,ub = Q,vtype = GRB.CONTINUOUS,name='u')  # u = clients"
   ]
  },
  {
   "cell_type": "code",
   "execution_count": 75,
   "id": "a31fca2d-5935-4e94-8a1c-92151324bb14",
   "metadata": {},
   "outputs": [],
   "source": [
    "# Objective Function\n",
    "#m.setObjective(gp.quicksum(c[i,j]*x[i,j] for i,j in arcs),GRB.MINIMIZE)\n",
    "m.setObjective(gp.quicksum(distance[n]*x[n] for n in arcs),GRB.MINIMIZE)"
   ]
  },
  {
   "cell_type": "code",
   "execution_count": 76,
   "id": "d3e65514-e346-43df-8ca9-e7de7d81b1b3",
   "metadata": {},
   "outputs": [
    {
     "data": {
      "text/plain": [
       "{1: <gurobi.Constr *Awaiting Model Update*>,\n",
       " 2: <gurobi.Constr *Awaiting Model Update*>,\n",
       " 3: <gurobi.Constr *Awaiting Model Update*>,\n",
       " 4: <gurobi.Constr *Awaiting Model Update*>,\n",
       " 5: <gurobi.Constr *Awaiting Model Update*>,\n",
       " 6: <gurobi.Constr *Awaiting Model Update*>}"
      ]
     },
     "execution_count": 76,
     "metadata": {},
     "output_type": "execute_result"
    }
   ],
   "source": [
    "#Constraints\n",
    "\n",
    "# first constraint: check that each customer is visited once by a vehicle\n",
    "m.addConstrs(gp.quicksum(x[i,j] for j in nodes if j!= i) == 1 for i in clients)\n",
    "# second constraint: check that if a vehicle visits a client, the vehicle leaves the client\n",
    "m.addConstrs(gp.quicksum(x[i,j] for i in nodes if j!= i) == 1 for j in clients)\n",
    "# third constraint: avoid subtours (TO TAKE OUT LATER)\n",
    "m.addConstrs((x[i,j]==1) >> (u[i]+q[j]== u[j]) for i,j in arcs if j!=0 and i!=0)\n",
    "\n",
    "m.addConstrs(u[i]>=q[i] for i in clients)\n",
    "m.addConstrs(u[i]<= Q for i in clients)"
   ]
  },
  {
   "cell_type": "code",
   "execution_count": 77,
   "id": "2f05fc92-afaf-48eb-83c0-0fd461ef98dc",
   "metadata": {},
   "outputs": [
    {
     "name": "stdout",
     "output_type": "stream",
     "text": [
      "Set parameter TimeLimit to value 60\n",
      "Set parameter MIPGap to value 0.1\n",
      "Gurobi Optimizer version 9.5.0 build v9.5.0rc5 (mac64[x86])\n",
      "Thread count: 2 physical cores, 4 logical processors, using up to 4 threads\n",
      "Optimize a model with 24 rows, 48 columns and 84 nonzeros\n",
      "Model fingerprint: 0x21a1358b\n",
      "Model has 30 general constraints\n",
      "Variable types: 6 continuous, 42 integer (42 binary)\n",
      "Coefficient statistics:\n",
      "  Matrix range     [1e+00, 1e+00]\n",
      "  Objective range  [1e+01, 1e+02]\n",
      "  Bounds range     [1e+00, 1e+03]\n",
      "  RHS range        [1e+00, 1e+03]\n",
      "  GenCon rhs range [1e+01, 1e+01]\n",
      "  GenCon coe range [1e+00, 1e+00]\n",
      "Presolve added 18 rows and 0 columns\n",
      "Presolve removed 0 rows and 12 columns\n",
      "Presolve time: 0.00s\n",
      "Presolved: 42 rows, 36 columns, 180 nonzeros\n",
      "Variable types: 6 continuous, 30 integer (30 binary)\n",
      "Found heuristic solution: objective 299.9926958\n",
      "\n",
      "Root relaxation: objective 2.190814e+02, 28 iterations, 0.00 seconds (0.00 work units)\n",
      "\n",
      "    Nodes    |    Current Node    |     Objective Bounds      |     Work\n",
      " Expl Unexpl |  Obj  Depth IntInf | Incumbent    BestBd   Gap | It/Node Time\n",
      "\n",
      "     0     0  219.08145    0   12  299.99270  219.08145  27.0%     -    0s\n",
      "H    0     0                     272.9080049  219.08145  19.7%     -    0s\n",
      "     0     0  219.10510    0   14  272.90800  219.10510  19.7%     -    0s\n",
      "H    0     0                     238.2883673  219.10510  8.05%     -    0s\n",
      "\n",
      "Cutting planes:\n",
      "  Gomory: 1\n",
      "  Implied bound: 3\n",
      "\n",
      "Explored 1 nodes (36 simplex iterations) in 0.07 seconds (0.00 work units)\n",
      "Thread count was 4 (of 4 available processors)\n",
      "\n",
      "Solution count 3: 238.288 272.908 299.993 \n",
      "\n",
      "Optimal solution found (tolerance 1.00e-01)\n",
      "Best objective 2.382883672837e+02, best bound 2.191051035830e+02, gap 8.0504%\n"
     ]
    }
   ],
   "source": [
    "m.Params.timeLimit = 60\n",
    "m.Params.MIPGap = 0.1\n",
    "m.optimize()"
   ]
  },
  {
   "cell_type": "code",
   "execution_count": 78,
   "id": "cc5a15e6-49ef-4acc-aa4f-874b4d974f65",
   "metadata": {},
   "outputs": [
    {
     "name": "stdout",
     "output_type": "stream",
     "text": [
      "Objective Function:  238.29\n",
      "x[0,1]=1.0\n",
      "x[1,5]=1.0\n",
      "x[2,6]=1.0\n",
      "x[3,4]=1.0\n",
      "x[4,2]=1.0\n",
      "x[5,3]=1.0\n",
      "x[6,0]=1.0\n",
      "u[1]=14.0\n",
      "u[2]=62.999999999999545\n",
      "u[3]=39.999999999999545\n",
      "u[4]=52.999999999999545\n",
      "u[5]=26.999999999999545\n",
      "u[6]=73.99999999999955\n"
     ]
    }
   ],
   "source": [
    "print('Objective Function: ',str(round(m.ObjVal,2)))\n",
    "for v in m.getVars():\n",
    "    if v.x > 0.9:\n",
    "        print(str(v.VarName)+'='+str(v.x))\n",
    "        "
   ]
  },
  {
   "cell_type": "code",
   "execution_count": 79,
   "id": "9ce9b065-bd60-401c-a9e4-d69b3cc16c3f",
   "metadata": {},
   "outputs": [
    {
     "data": {
      "text/plain": [
       "[[0, 1, 5, 3, 4, 2, 6, 0]]"
      ]
     },
     "execution_count": 79,
     "metadata": {},
     "output_type": "execute_result"
    }
   ],
   "source": [
    "routes = list()\n",
    "for i in clients:\n",
    "    if x[(0,i)].x > 0.9:\n",
    "        aux = [0,i]\n",
    "        while i != 0:\n",
    "            j = i\n",
    "            for k in nodes:\n",
    "                if j!=k and x[(j,k)].x > 0.9:\n",
    "                    aux.append(k)\n",
    "                    i=k\n",
    "        routes.append(aux)\n",
    "routes"
   ]
  },
  {
   "cell_type": "code",
   "execution_count": 80,
   "id": "00818fed-4f92-4991-abc0-ed228d86cf5d",
   "metadata": {},
   "outputs": [
    {
     "data": {
      "text/plain": [
       "Text(0.5, 1.0, 'Vehicle Routing Problem')"
      ]
     },
     "execution_count": 80,
     "metadata": {},
     "output_type": "execute_result"
    },
    {
     "data": {
      "image/png": "[encoded data removed]",
      "text/plain": [
       "<Figure size 864x360 with 1 Axes>"
      ]
     },
     "metadata": {
      "needs_background": "light"
     },
     "output_type": "display_data"
    }
   ],
   "source": [
    "import colour as cl\n",
    "\n",
    "plt.figure(figsize=(12,5))\n",
    "plt.scatter(X,Y,color = 'blue')\n",
    "\n",
    "#DC\n",
    "plt.scatter(X[0],Y[0],color='red',marker='D')\n",
    "plt.annotate('DC',(X[0]-1,Y[0]-5.5))\n",
    "\n",
    "for i in clients:\n",
    "    plt.annotate('$q_{%d}=%d$'%(i,q[i]),(X[i]-1,Y[i]-5.5))\n",
    "    \n",
    "for r in range(len(routes)):\n",
    "    for n in range(len(routes[r])-1):\n",
    "        i = routes[r][n]\n",
    "        j = routes[r][n+1]\n",
    "        plt.plot([X[i],X[j]],[Y[i],Y[j]],color = 'blue',alpha = 0.4)\n",
    "        \n",
    "plt.xlabel('Distance X')\n",
    "plt.ylabel('Distance Y')\n",
    "plt.title('Vehicle Routing Problem')"
   ]
  },
  {
   "cell_type": "code",
   "execution_count": null,
   "id": "fd8cc458-89d2-417b-afbc-6aa5b4a58018",
   "metadata": {},
   "outputs": [],
   "source": []
  }
 ],
 "metadata": {
  "kernelspec": {
   "display_name": "Python 3",
   "language": "python",
   "name": "python3"
  },
  "language_info": {
   "codemirror_mode": {
    "name": "ipython",
    "version": 3
   },
   "file_extension": ".py",
   "mimetype": "text/x-python",
   "name": "python",
   "nbconvert_exporter": "python",
   "pygments_lexer": "ipython3",
   "version": "3.8.8"
  }
 },
 "nbformat": 4,
 "nbformat_minor": 5
}
