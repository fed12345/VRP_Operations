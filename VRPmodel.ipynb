{
 "cells": [
  {
   "cell_type": "code",
   "execution_count": null,
   "id": "470d987d-5730-4744-8954-fa60bcf3d9ac",
   "metadata": {},
   "outputs": [],
   "source": [
    "import gurobipy as gp\n",
    "from gurobipy import GRB\n",
    "import pickle\n",
    "from copy import deepcopy\n",
    "import random \n",
    "import numpy as np\n",
    "from matplotlib import pyplot as plt\n"
   ]
  },
  {
   "cell_type": "code",
   "execution_count": null,
   "id": "59199968-ae09-4c21-9f75-ef9d7d056fa5",
   "metadata": {},
   "outputs": [],
   "source": [
    "# Nodes\n",
    "n = 7\n",
    "clients = [ i for i in range(n) if i !=0]\n",
    "nodes = [0]+clients #+[n-1]\n",
    "arcs = [(i,j) for i in nodes for j in nodes if i!=j]\n",
    "cost = random.sample(range(20,200),len(arcs))\n",
    "c = { arcs[i]:  cost[i] for i in range(len(arcs))}\n",
    "\n",
    "np.random.seed(0)\n",
    "q = {n:np.random.randint(10,15) for n in clients}\n",
    "#q[0] = 0\n",
    "#q[6] = 0\n",
    "Q = 1000\n",
    "\n",
    "# coordinates\n",
    "X = np.random.rand(len(nodes))*100\n",
    "Y = np.random.rand(len(nodes))*100"
   ]
  },
  {
   "cell_type": "code",
   "execution_count": null,
   "id": "57c8402c-ff0b-465b-8fa2-8b856d5339b7",
   "metadata": {},
   "outputs": [],
   "source": [
    "# distance\n",
    "distance = {(i,j): np.hypot(X[i]-X[j],Y[i]-Y[j]) for i in nodes for j in nodes if i!=j}\n"
   ]
  },
  {
   "cell_type": "code",
   "execution_count": null,
   "id": "ed4c6bd3-ab30-4ba9-9961-550f7485ca14",
   "metadata": {},
   "outputs": [],
   "source": [
    "plt.figure(figsize=(12,5))\n",
    "plt.scatter(X,Y,color =  'blue')\n",
    "\n",
    "#DC\n",
    "plt.scatter(X[0],Y[0],color = 'red', marker='D')\n",
    "plt.annotate('DC',(X[0]-1,Y[0]-5.5))\n",
    "\n",
    "for i in clients:\n",
    "    plt.annotate('$q_{%d}=%d$'%(i,q[i]),(X[i]-1,Y[i]-5.5))\n",
    "    \n",
    "plt.xlabel('Distance X')\n",
    "plt.ylabel('Distance Y')\n",
    "plt.title('Solution Travel Salesman Problem')\n",
    "plt.show()"
   ]
  },
  {
   "cell_type": "code",
   "execution_count": null,
   "id": "0d54d3f1-3d6a-488d-a36b-22e9f106549e",
   "metadata": {},
   "outputs": [],
   "source": [
    "# not connected!\n",
    "#arcs = [(0,1),(0,2), (0,5), (1,2),(1,3),(1,4),(1,5),(1,6),(2,3),(2,6),(3,4),(4,5),(5,6),(2,1),(3,1),(4,1),(5,1),(3,2),(4,3),(5,4)]\n",
    "#cost = [11,10,10,5,15,15,5,10,15,10,20,15,10,5,15,15,5,15,20,15]\n",
    "#c = { arcs[i]:  cost[i] for i in range(len(arcs))}"
   ]
  },
  {
   "cell_type": "code",
   "execution_count": null,
   "id": "e93f6c56-b9ba-4d05-be99-4b40d67fbee0",
   "metadata": {},
   "outputs": [],
   "source": [
    "# Create Model\n",
    "m = gp.Model('CVRP')"
   ]
  },
  {
   "cell_type": "code",
   "execution_count": null,
   "id": "78f2f7d1-73c7-4ba2-86b4-6fe6ec70d6e0",
   "metadata": {},
   "outputs": [],
   "source": [
    "# Adding variables\n",
    "x = m.addVars(arcs,vtype = GRB.BINARY,name='x')         # x = arcs\n",
    "u = m.addVars(clients,ub = Q,vtype = GRB.CONTINUOUS,name='u')  # u = clients"
   ]
  },
  {
   "cell_type": "code",
   "execution_count": null,
   "id": "a31fca2d-5935-4e94-8a1c-92151324bb14",
   "metadata": {},
   "outputs": [],
   "source": [
    "# Objective Function\n",
    "#m.setObjective(gp.quicksum(c[i,j]*x[i,j] for i,j in arcs),GRB.MINIMIZE)\n",
    "m.setObjective(gp.quicksum(distance[n]*x[n] for n in arcs),GRB.MINIMIZE)"
   ]
  },
  {
   "cell_type": "code",
   "execution_count": null,
   "id": "d3e65514-e346-43df-8ca9-e7de7d81b1b3",
   "metadata": {},
   "outputs": [],
   "source": [
    "#Constraints\n",
    "\n",
    "# first constraint: check that each customer is visited once by a vehicle\n",
    "m.addConstrs(gp.quicksum(x[i,j] for j in nodes if j!= i) == 1 for i in clients)\n",
    "# second constraint: check that if a vehicle visits a client, the vehicle leaves the client\n",
    "m.addConstrs(gp.quicksum(x[i,j] for i in nodes if j!= i) == 1 for j in clients)\n",
    "# third constraint: avoid subtours (TO TAKE OUT LATER)\n",
    "m.addConstrs((x[i,j]==1) >> (u[i]+q[j]== u[j]) for i,j in arcs if j!=0 and i!=0)\n",
    "\n",
    "m.addConstrs(u[i]>=q[i] for i in clients)\n",
    "m.addConstrs(u[i]<= Q for i in clients)"
   ]
  },
  {
   "cell_type": "code",
   "execution_count": null,
   "id": "2f05fc92-afaf-48eb-83c0-0fd461ef98dc",
   "metadata": {},
   "outputs": [],
   "source": [
    "m.Params.timeLimit = 60\n",
    "m.Params.MIPGap = 0.1\n",
    "m.optimize()"
   ]
  },
  {
   "cell_type": "code",
   "execution_count": null,
   "id": "cc5a15e6-49ef-4acc-aa4f-874b4d974f65",
   "metadata": {},
   "outputs": [],
   "source": [
    "print('Objective Function: ',str(round(m.ObjVal,2)))\n",
    "for v in m.getVars():\n",
    "    if v.x > 0.9:\n",
    "        print(str(v.VarName)+'='+str(v.x))\n",
    "        "
   ]
  },
  {
   "cell_type": "code",
   "execution_count": null,
   "id": "9ce9b065-bd60-401c-a9e4-d69b3cc16c3f",
   "metadata": {},
   "outputs": [],
   "source": [
    "routes = list()\n",
    "for i in clients:\n",
    "    if x[(0,i)].x > 0.9:\n",
    "        aux = [0,i]\n",
    "        while i != 0:\n",
    "            j = i\n",
    "            for k in nodes:\n",
    "                if j!=k and x[(j,k)].x > 0.9:\n",
    "                    aux.append(k)\n",
    "                    i=k\n",
    "        routes.append(aux)\n",
    "routes"
   ]
  },
  {
   "cell_type": "code",
   "execution_count": null,
   "id": "00818fed-4f92-4991-abc0-ed228d86cf5d",
   "metadata": {},
   "outputs": [],
   "source": [
    "import colour as cl\n",
    "\n",
    "plt.figure(figsize=(12,5))\n",
    "plt.scatter(X,Y,color = 'blue')\n",
    "\n",
    "#DC\n",
    "plt.scatter(X[0],Y[0],color='red',marker='D')\n",
    "plt.annotate('DC',(X[0]-1,Y[0]-5.5))\n",
    "\n",
    "for i in clients:\n",
    "    plt.annotate('$q_{%d}=%d$'%(i,q[i]),(X[i]-1,Y[i]-5.5))\n",
    "    \n",
    "for r in range(len(routes)):\n",
    "    for n in range(len(routes[r])-1):\n",
    "        i = routes[r][n]\n",
    "        j = routes[r][n+1]\n",
    "        plt.plot([X[i],X[j]],[Y[i],Y[j]],color = 'blue',alpha = 0.4)\n",
    "        \n",
    "plt.xlabel('Distance X')\n",
    "plt.ylabel('Distance Y')\n",
    "plt.title('Vehicle Routing Problem')"
   ]
  },
  {
   "cell_type": "code",
   "execution_count": 1,
   "id": "fd8cc458-89d2-417b-afbc-6aa5b4a58018",
   "metadata": {
    "jupyter": {
     "source_hidden": true
    },
    "tags": []
   },
   "outputs": [
    {
     "name": "stdout",
     "output_type": "stream",
     "text": [
      "<class 'list'>\n",
      "Restricted license - for non-production use only - expires 2023-10-25\n",
      "Set parameter TimeLimit to value 100\n",
      "Gurobi Optimizer version 9.5.0 build v9.5.0rc5 (mac64[x86])\n",
      "Thread count: 2 physical cores, 4 logical processors, using up to 4 threads\n",
      "Optimize a model with 482 rows, 341 columns and 1890 nonzeros\n",
      "Model fingerprint: 0x7fb8602c\n",
      "Variable types: 131 continuous, 210 integer (210 binary)\n",
      "Coefficient statistics:\n",
      "  Matrix range     [1e+00, 1e+02]\n",
      "  Objective range  [8e+00, 2e+02]\n",
      "  Bounds range     [1e+00, 1e+00]\n",
      "  RHS range        [1e+00, 1e+02]\n",
      "Presolve removed 120 rows and 11 columns\n",
      "Presolve time: 0.04s\n",
      "Presolved: 362 rows, 330 columns, 3054 nonzeros\n",
      "Variable types: 130 continuous, 200 integer (200 binary)\n",
      "\n",
      "Root relaxation: objective 1.499662e+03, 212 iterations, 0.01 seconds (0.00 work units)\n",
      "\n",
      "    Nodes    |    Current Node    |     Objective Bounds      |     Work\n",
      " Expl Unexpl |  Obj  Depth IntInf | Incumbent    BestBd   Gap | It/Node Time\n",
      "\n",
      "     0     0 1499.66250    0   22          - 1499.66250      -     -    0s\n",
      "     0     0 1574.83440    0   30          - 1574.83440      -     -    0s\n",
      "H    0     0                    1808.2039377 1574.83440  12.9%     -    0s\n",
      "     0     0 1575.01139    0   32 1808.20394 1575.01139  12.9%     -    0s\n",
      "     0     0 1612.62761    0   29 1808.20394 1612.62761  10.8%     -    0s\n",
      "     0     0 1613.73427    0   25 1808.20394 1613.73427  10.8%     -    0s\n",
      "     0     0 1613.86502    0   26 1808.20394 1613.86502  10.7%     -    0s\n",
      "     0     0 1613.86502    0   27 1808.20394 1613.86502  10.7%     -    0s\n",
      "     0     0 1646.40149    0   33 1808.20394 1646.40149  8.95%     -    0s\n",
      "H    0     0                    1720.8582885 1646.40149  4.33%     -    0s\n",
      "H    0     0                    1699.9090196 1646.40149  3.15%     -    0s\n",
      "     0     0 1646.44354    0   24 1699.90902 1646.44354  3.15%     -    0s\n",
      "     0     0 1664.84202    0   29 1699.90902 1664.84202  2.06%     -    0s\n",
      "     0     0 1664.84202    0   21 1699.90902 1664.84202  2.06%     -    0s\n",
      "     0     0 1664.84202    0   15 1699.90902 1664.84202  2.06%     -    0s\n",
      "     0     0 1693.56455    0   22 1699.90902 1693.56455  0.37%     -    0s\n",
      "     0     0 1698.16654    0    2 1699.90902 1698.16654  0.10%     -    0s\n",
      "*    0     0               0    1698.1665368 1698.16654  0.00%     -    0s\n",
      "\n",
      "Cutting planes:\n",
      "  Gomory: 1\n",
      "  Implied bound: 7\n",
      "  MIR: 10\n",
      "  Flow cover: 12\n",
      "  Relax-and-lift: 2\n",
      "\n",
      "Explored 1 nodes (1033 simplex iterations) in 0.43 seconds (0.10 work units)\n",
      "Thread count was 4 (of 4 available processors)\n",
      "\n",
      "Solution count 4: 1698.17 1699.91 1720.86 1808.2 \n",
      "\n",
      "Optimal solution found (tolerance 1.00e-04)\n",
      "Best objective 1.698166536753e+03, best bound 1.698166536753e+03, gap 0.0000%\n"
     ]
    },
    {
     "data": {
      "image/png": "[encoded data removed]",
      "text/plain": [
       "<Figure size 432x288 with 1 Axes>"
      ]
     },
     "metadata": {
      "needs_background": "light"
     },
     "output_type": "display_data"
    }
   ],
   "source": [
    "import numpy as np\n",
    "import matplotlib.pyplot as plt\n",
    "import gurobipy as gp\n",
    "from gurobipy import GRB\n",
    "from data import Drones, Clients\n",
    "\n",
    "#Initialization\n",
    "rnd = np.random\n",
    "rnd.seed(0)\n",
    "\n",
    "\n",
    "#Definitions\n",
    "\n",
    "def solve_VRP(drones,clients_list,time_limit):\n",
    "    # Basic problem variables\n",
    "    n = Clients.numeber_of_clients # nodes\n",
    "    clients = [ i for i in range(1,n+1)]\n",
    "    nodes = [0]+clients\n",
    "    N_N_0 = [(i,j) for i in nodes for j in clients if i!=j]\n",
    "    xc = [0]+[xc.x_coord for xc in clients_list] # customer x locations\n",
    "    yc = [0]+[yc.y_coord for yc in clients_list] #rnd.rand(n-1)*100 # customer y locations\n",
    "    print(type(xc))\n",
    "    T = time_limit # [s] total delivery duration\n",
    "\n",
    "    # Drone parameters\n",
    "    M = drones.number_of_drones # Number of drones\n",
    "    K = 100 # upper bound payload weight\n",
    "    v = drones.maxspeed # drone speed [m/s]\n",
    "    Q = drones.maxpayload# max drone payload [kg] \n",
    "\n",
    "    # Decision variables\n",
    "    arcs = [(i,j) for i in nodes for j in nodes if i!=j] # fully connected links\n",
    "    sigma_var = [(i,j) for i in nodes[1:] for j in nodes[1:]] # going through depot\n",
    "    y = arcs # payload weight between paths\n",
    "    t = [i for i in nodes] # time at node i\n",
    "    a = [i for i in clients] # time between node i and depot\n",
    "\n",
    "    # Costs\n",
    "    s = {(i, j): np.hypot(xc[i]-xc[j], yc[i]-yc[j]) for i, j in arcs} # euclidean distances\n",
    "    D = {i.number: i.demand for i in clients_list}# demand of client rnd.randint(1,5)\n",
    "\n",
    "\n",
    "    ### Creating the Model ###\n",
    "    m = gp.Model('CVRP')\n",
    "\n",
    "    # Adding decision variables\n",
    "    x = m.addVars(arcs,vtype = GRB.BINARY,name='x') # x = arcs \n",
    "    sigma = m.addVars(sigma_var,vtype = GRB.BINARY,name='sigma') \n",
    "    y = m.addVars(y,vtype = GRB.CONTINUOUS,name='y')\n",
    "    t = m.addVars(t,vtype = GRB.CONTINUOUS,name='t')\n",
    "    a = m.addVars(a,vtype = GRB.CONTINUOUS,name='a')\n",
    "\n",
    "    # Objective function\n",
    "    m.setObjective(gp.quicksum(s[i,j]*x[i,j] for i,j in arcs),GRB.MINIMIZE)\n",
    "\n",
    "    # Constraints\n",
    "    m.addConstrs(gp.quicksum(x[i,j] for j in nodes if j!= i) == 1 for i in clients) # (4a)\n",
    "    m.addConstrs(gp.quicksum(x[i,j] for j in nodes if j!= i)-gp.quicksum(x[j,i] for j in nodes if j!= i)== 0 for i in nodes ) #(4b)\n",
    "    #Reusability Constrains\n",
    "    m.addConstrs(gp.quicksum(sigma[i,j] for j in clients) <= x[i,0] for i in clients) # (5a)\n",
    "    m.addConstrs(gp.quicksum(sigma[j,i] for j in clients) <= x[0,i] for i in clients) # (5b)\n",
    "    m.addConstr(gp.quicksum(x[0,i] for i in clients) - gp.quicksum(sigma[i,j] for i,j in sigma_var if i!=j) <= M) # (5c)\n",
    "    #Demand Contrains\n",
    "    m.addConstrs(gp.quicksum(y[j,i] for j in nodes if j!=i) - gp.quicksum(y[i,j] for j in nodes if j!=i)==D[i] for i in clients) # (6a)\n",
    "    m.addConstrs(y[i,j] <= K*x[i,j] for i,j in arcs if i!=j) # (6b)\n",
    "    #Time Constrains\n",
    "    m.addConstrs(t[i] - t[j] + s[i,j]/v <= K* (1-x[i,j]) for i,j in N_N_0 if i!=j) # (7a)\n",
    "    m.addConstrs(t[i] - a[i] + s[i,0]/v <= K * (1 - x[i,0]) for i in clients) # (7b)\n",
    "    m.addConstrs(a[i] - t[j] + s[0,j]/v <= K * (1 - sigma[i,j]) for i,j in sigma_var if i!=j) # (7c)\n",
    "    m.addConstrs(t[i] <= T  for i in clients) # (7d)  and (7e) CHECK THIS CONSTRAINT\n",
    "    #\n",
    "    m.addConstrs(y[i,j] <= Q * x[i,j] for i,j in arcs if i!=j) #(8a)\n",
    "\n",
    "\n",
    "    m.Params.timeLimit = 100 #[s]\n",
    "    m.optimize()\n",
    "\n",
    "    #Plotting\n",
    "    active_arcs = [a for a in arcs if x[a].x > 0.99]\n",
    "\n",
    "    for i, j in active_arcs:\n",
    "        plt.plot([xc[i], xc[j]], [yc[i], yc[j]], c='g', zorder=0)\n",
    "    plt.plot(xc[0], yc[0], c='r', marker='s')\n",
    "    plt.scatter(xc[1:], yc[1:], c='b')\n",
    "\n",
    "    plt.show()\n",
    "\n",
    "\n",
    "#SAMPLE DATASET\n",
    "\n",
    "drone1 = Drones(\"Amazon Drone\", 10, 5, 5)#(name, maxspeed, maxpayload, number_of_drones)\n",
    "\n",
    "client_list = []\n",
    "for i in range(1,11):\n",
    "    client = Clients(i, rnd.rand(1)[0]*100,rnd.rand(1)[0]*200, rnd.randint(1,5))\n",
    "    client_list.append(client)\n",
    "\n",
    "T = 60 # [s] total delivery duration\n",
    "\n",
    "\n",
    "\n",
    "if __name__== \"__main__\":\n",
    "    solve_VRP(drone1,client_list, T)"
   ]
  },
  {
   "cell_type": "code",
   "execution_count": null,
   "id": "5ad83071-6823-4e36-a572-14c37ec20228",
   "metadata": {},
   "outputs": [],
   "source": []
  }
 ],
 "metadata": {
  "kernelspec": {
   "display_name": "Python 3",
   "language": "python",
   "name": "python3"
  },
  "language_info": {
   "codemirror_mode": {
    "name": "ipython",
    "version": 3
   },
   "file_extension": ".py",
   "mimetype": "text/x-python",
   "name": "python",
   "nbconvert_exporter": "python",
   "pygments_lexer": "ipython3",
   "version": "3.8.8"
  }
 },
 "nbformat": 4,
 "nbformat_minor": 5
}
