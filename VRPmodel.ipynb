{
 "cells": [
  {
   "cell_type": "markdown",
   "id": "bf2d6383-3676-4bff-9f4e-4584dd69cdb1",
   "metadata": {},
   "source": [
    "# *Drone Delivery: a Vehicle Routing Problem*\n",
    "\n",
    "Authors: Adrian Menor, Federico Magri, Youssef Farah\n",
    "\n",
    "// add description "
   ]
  },
  {
   "cell_type": "markdown",
   "id": "17efc318-5ed2-40ef-ac4a-f7c087af3930",
   "metadata": {},
   "source": [
    "## Import Packages"
   ]
  },
  {
   "cell_type": "code",
   "execution_count": 1,
   "id": "c033ff87-6a05-4176-ae0c-2c63e8d98fdb",
   "metadata": {},
   "outputs": [],
   "source": [
    "import pickle\n",
    "import pandas as pd\n",
    "import numpy as np\n",
    "import matplotlib.pyplot as plt\n",
    "import gurobipy as gp\n",
    "from gurobipy import GRB\n",
    "import timeit\n",
    "from geopy.distance import geodesic\n",
    "import pandas as pd\n",
    "rnd = np.random\n",
    "rnd.seed(0)"
   ]
  },
  {
   "cell_type": "markdown",
   "id": "7186d4ec-7c9e-4ee3-bb6f-9d9fca79aa9b",
   "metadata": {},
   "source": [
    "## VRP Model"
   ]
  },
  {
   "cell_type": "markdown",
   "id": "10fcc090-dbea-446c-9afd-4118bb12c039",
   "metadata": {},
   "source": [
    "### Classes "
   ]
  },
  {
   "cell_type": "code",
   "execution_count": 2,
   "id": "f59c015e-da7b-41d6-9ea9-425dfba9bcaa",
   "metadata": {},
   "outputs": [],
   "source": [
    "#DATASET \n",
    "#Here we create the dataset\n",
    "#Initialize\n",
    "class Drones():\n",
    "    def __init__(self, name, maxspeed, maxpayload, number_of_drones, power):\n",
    "        self.name = name\n",
    "        self.maxspeed = maxspeed\n",
    "        self.maxpayload = maxpayload\n",
    "        self.number_of_drones = number_of_drones\n",
    "        self.power = power\n",
    "\n",
    "class Clients():\n",
    "    number_of_clients = 0\n",
    "    depo_location = (-3.4333, 29.9000)\n",
    "    def __init__(self,id, number, name, lat, long, demand):\n",
    "        self.id = id\n",
    "        self.number = number\n",
    "        self.name = name\n",
    "        self.lat = lat\n",
    "        self.long = long\n",
    "        self.demand = demand\n",
    "        Clients.number_of_clients += 1"
   ]
  },
  {
   "cell_type": "markdown",
   "id": "5d136d91-e953-41ee-8bb5-a0200484adcd",
   "metadata": {},
   "source": [
    "### Sample Dataset"
   ]
  },
  {
   "cell_type": "code",
   "execution_count": 3,
   "id": "039fe4ca-0347-477c-8c1a-38f1ee153188",
   "metadata": {},
   "outputs": [],
   "source": [
    "# select villages between 30 and 50 km\n",
    "client_df = pd.read_csv('villages_test.csv')\n",
    "client_50 = client_df[(client_df['dist_from_depo'] > 30) & (client_df['dist_from_depo'] < 50)] # 248 villages\n",
    "depo_long = 29.9000\n",
    "depo_lat  = -3.4333\n",
    "\n",
    "nvxc = 4\n",
    "\n",
    "client_50_ul = client_50[(client_50['lat'] - depo_lat > 0 ) & (client_50['lon'] - depo_long < 0)].sample(n = nvxc)\n",
    "client_50_ur = client_50[(client_50['lat'] - depo_lat > 0 ) & (client_50['lon'] - depo_long > 0)].sample(n = nvxc)\n",
    "client_50_ll = client_50[(client_50['lat'] - depo_lat < 0 ) & (client_50['lon'] - depo_long < 0)].sample(n = nvxc)\n",
    "client_50_lr = client_50[(client_50['lat'] - depo_lat < 0 ) & (client_50['lon'] - depo_long > 0)].sample(n = nvxc)\n",
    "client_50 = pd.concat([client_50_ul,client_50_ur,client_50_ll,client_50_lr])"
   ]
  },
  {
   "cell_type": "code",
   "execution_count": 4,
   "id": "81cee551-cb8f-4eba-b620-42e3dc4e9fd4",
   "metadata": {},
   "outputs": [],
   "source": [
    "Clients.number_of_clients = 0\n",
    "drones = Drones(\"AAI RQ-7 Shadow\", 36.1111, 10, 3, 28.5)#(name, maxspeed, maxpayload, number_of_drones, power consumtion)\n",
    "client_list = []\n",
    "u = 1\n",
    "for index, i in client_50.iterrows():\n",
    "    \n",
    "    Client = Clients(i['id'], u,i['Name'],i['lat'],i['lon'],i['demand'])\n",
    "    client_list.append(Client)\n",
    "    u = u + 1\n",
    "                       \n",
    "T = 5000 # [s] total delivery duration\n"
   ]
  },
  {
   "cell_type": "code",
   "execution_count": 5,
   "id": "95a77894-9d54-473e-9fef-cb77c1dbedfc",
   "metadata": {},
   "outputs": [],
   "source": [
    "client_50.to_csv('villages_test.csv')"
   ]
  },
  {
   "cell_type": "markdown",
   "id": "21699d32-f9c8-4a31-8425-d361adade6e7",
   "metadata": {},
   "source": [
    "## Model Setup"
   ]
  },
  {
   "cell_type": "code",
   "execution_count": 6,
   "id": "8245223f-2d32-4545-a9cb-6fddcf42c79d",
   "metadata": {
    "tags": []
   },
   "outputs": [],
   "source": [
    "# Basic problem variables\n",
    "drones = Drones(\"AAI RQ-7 Shadow\", 36.1111, 10, 2, 28.5)#(name, maxspeed, maxpayload, number_of_drones, power consumtion)\n",
    "n = Clients.number_of_clients # nodes\n",
    "clients = [i for i in range(1,n+1)]   # N_0\n",
    "nodes = [0]+clients                   # N\n",
    "N_N_0 = [(i,j) for i in nodes for j in clients if i!=j]\n",
    "lat= [Clients.depo_location[0]]+[xc.lat for xc in client_list] # customer x locations\n",
    "long = [Clients.depo_location[1]]+[yc.long for yc in client_list] #rnd.rand(n-1)*100 # customer y locations\n"
   ]
  },
  {
   "cell_type": "code",
   "execution_count": 7,
   "id": "414094de-9a38-418f-b3d7-bfca460fb1ca",
   "metadata": {},
   "outputs": [],
   "source": [
    "# Drone parameters\n",
    "M = drones.number_of_drones # Number of drones\n",
    "K = 1000000                 # upper bound payload weight [kg]\n",
    "v = drones.maxspeed         # drone speed                [m/s]\n",
    "Q = drones.maxpayload       # max drone payload [kg] \n",
    "p = drones.power            #Power Consumption [kW]"
   ]
  },
  {
   "cell_type": "code",
   "execution_count": 8,
   "id": "468b048c-13e0-4839-8c57-a7b008438427",
   "metadata": {
    "tags": []
   },
   "outputs": [],
   "source": [
    "# Decision variables\n",
    "arcs = [(i,j) for i in nodes for j in nodes if i!=j]      # fully connected links (N x N)\n",
    "sigma_var = [(i,j) for i in clients for j in clients ]    # going through depot\n",
    "y = arcs # payload weight between paths\n",
    "t = [i for i in nodes] # time at node i\n",
    "a = [i for i in clients] # time between node i and depot\n",
    "z = a # The energy consumed from a drone’s battery by the time it arrives at the depot directly after leaving\n",
    "f = t #Enegry cosumed at location i"
   ]
  },
  {
   "cell_type": "code",
   "execution_count": 9,
   "id": "2a4688ab-5fcd-4803-8f03-d5b4c5a90b6d",
   "metadata": {},
   "outputs": [],
   "source": [
    "# Costs\n",
    "s = {(i, j): geodesic((lat[i],long[i]),(lat[j],long[j])).m for i, j in arcs} # euclidean distances TODO change km to m\n",
    "D = {i.number: i.demand for i in client_list}# demand of client rnd.randint(1,5)\n"
   ]
  },
  {
   "cell_type": "code",
   "execution_count": 10,
   "id": "5d8d0acf-de0b-4eb0-a03a-fa380d988e7d",
   "metadata": {},
   "outputs": [
    {
     "name": "stdout",
     "output_type": "stream",
     "text": [
      "Restricted license - for non-production use only - expires 2023-10-25\n"
     ]
    }
   ],
   "source": [
    "### Creating the Model ###\n",
    "m = gp.Model('CVRP')"
   ]
  },
  {
   "cell_type": "code",
   "execution_count": 11,
   "id": "278e4ae6-6096-4572-a968-c4bf82429400",
   "metadata": {},
   "outputs": [],
   "source": [
    "# Adding decision variables\n",
    "x = m.addVars(arcs,vtype = GRB.BINARY,name='x') # x = arcs \n",
    "sigma = m.addVars(sigma_var,vtype = GRB.BINARY,name='sigma') \n",
    "y = m.addVars(y,vtype = GRB.CONTINUOUS,name='y') # payload weight between paths\n",
    "t = m.addVars(t,vtype = GRB.CONTINUOUS,name='t') # time at node i\n",
    "a = m.addVars(a,vtype = GRB.CONTINUOUS,name='a') # time between node i and the depot \n",
    "f = m.addVars(f,vtype = GRB.CONTINUOUS,name='f')\n",
    "z = m.addVars(z,vtype = GRB.CONTINUOUS,name='z')\n",
    "m.update()"
   ]
  },
  {
   "cell_type": "code",
   "execution_count": 12,
   "id": "64381eb3-5b34-4d8c-97e4-3595d6b2c7b8",
   "metadata": {},
   "outputs": [],
   "source": [
    "# Objective function\n",
    "m.setObjective(gp.quicksum(s[i,j]*x[i,j] for i,j in arcs),GRB.MINIMIZE)"
   ]
  },
  {
   "cell_type": "code",
   "execution_count": 13,
   "id": "191d8800-af3b-4e26-bc72-4a95421d71ff",
   "metadata": {},
   "outputs": [
    {
     "data": {
      "text/plain": [
       "{1: <gurobi.Constr *Awaiting Model Update*>,\n",
       " 2: <gurobi.Constr *Awaiting Model Update*>,\n",
       " 3: <gurobi.Constr *Awaiting Model Update*>,\n",
       " 4: <gurobi.Constr *Awaiting Model Update*>,\n",
       " 5: <gurobi.Constr *Awaiting Model Update*>,\n",
       " 6: <gurobi.Constr *Awaiting Model Update*>,\n",
       " 7: <gurobi.Constr *Awaiting Model Update*>,\n",
       " 8: <gurobi.Constr *Awaiting Model Update*>,\n",
       " 9: <gurobi.Constr *Awaiting Model Update*>,\n",
       " 10: <gurobi.Constr *Awaiting Model Update*>,\n",
       " 11: <gurobi.Constr *Awaiting Model Update*>,\n",
       " 12: <gurobi.Constr *Awaiting Model Update*>,\n",
       " 13: <gurobi.Constr *Awaiting Model Update*>,\n",
       " 14: <gurobi.Constr *Awaiting Model Update*>,\n",
       " 15: <gurobi.Constr *Awaiting Model Update*>,\n",
       " 16: <gurobi.Constr *Awaiting Model Update*>}"
      ]
     },
     "execution_count": 13,
     "metadata": {},
     "output_type": "execute_result"
    }
   ],
   "source": [
    "# Constraints\n",
    "m.addConstrs((gp.quicksum(x[i,j] for j in nodes if j!= i) == 1 for i in clients),name = \"4a\") # (4a) each node visited exactly once by a drone\n",
    "m.addConstrs((gp.quicksum(x[i,j] for j in nodes if j!= i)-gp.quicksum(x[j,i] for j in nodes if j!= i)== 0 for i in nodes),name = \"4b\") # (4b) when node i is visited, the drone leaves\n",
    "\n",
    "# Reusability Constraints\n",
    "m.addConstrs((gp.quicksum(sigma[i,j] for j in clients) <= x[i,0] for i in clients),name = \"5a\") # (5a) if drone comes back to depot from location i, it can fly again\n",
    "m.addConstrs((gp.quicksum(sigma[j,i] for j in clients) <= x[0,i] for i in clients),name = \"5b\") # (5b) if drone goes from depot to location i, it arrived previously from somewhere else\n",
    "\n",
    "m.addConstr((gp.quicksum(x[0,i] for i in clients) - gp.quicksum(sigma[i,j] for i,j in sigma_var if i!=j) <= M),name=\"5c\") # (5c) more than M drones cannot fly simultaneously\n",
    "\n",
    "# Demand Constraints\n",
    "m.addConstrs((gp.quicksum(y[j,i] for j in nodes if j!=i) - gp.quicksum(y[i,j] for j in nodes if j!=i)==D[i] for i in clients), name = '6a') # (6a) payload when leaving i less than arriving i with Di kg less\n",
    "\n",
    "m.addConstrs((y[i,j] <= K*x[i,j] for i,j in arcs if i!=j),name = \"6b\") # (6b) sets the payload weight of each edge without a vehicle to 0 kg\n",
    "\n",
    "# Time Constraints\n",
    "m.addConstrs((t[i] - t[j] + s[i,j]/v <= K* (1-x[i,j]) for i,j in N_N_0 if i!=j),name = \"7a\") # (7a) keeps track of time i that each location i is visited by a drone\n",
    "m.addConstrs((t[i] - a[i] + s[i,0]/v <= K * (1 - x[i,0]) for i in clients),name = \"7b\") # (7b) keeps track of the time ai that a drone arrives at the depot from location i \n",
    "m.addConstrs((a[i] - t[j] + s[0,j]/v <= K * (1 - sigma[i,j]) for i,j in sigma_var if i!=j),name = \"7c\") # (7c) ensures that times are correct for drones that are reused after returning to the depot\n",
    "m.addConstrs((t[i] <= T  for i in clients),name = \"7d_7e\") # (7d)  and (7e) checks delivery time \n",
    "\n",
    "# Capacity Constraints\n",
    "m.addConstrs((y[i,j] <= Q * x[i,j] for i,j in arcs if i!=j), name = \"8a\") #(8a) capacity of drone between i and j is restricted by Q\n",
    "\n",
    "# Energy Constraints\n",
    "m.addConstrs((f[i] - f[j] + p*s[i,j]/v <= K*(1-x[i,j]) for i,j in N_N_0 if i!=j), name = \"9a\")#(9a) forces fi to equal the total energy consumed along the route up to location i.\n",
    "m.addConstrs((f[i] - z[i] + p*s[i,0]/v <= K * (1 - x[i,0]) for i in clients),name = \"9b\")#(9b) makes zi equal to the energy consumedflying the entire route that ends at location i\n",
    "m.addConstrs((z[i]<= K*x[i,0] for i in clients),name = \"9c\") #9c"
   ]
  },
  {
   "cell_type": "code",
   "execution_count": null,
   "id": "290edcda-f178-466a-b6e7-5015e0fe8af9",
   "metadata": {},
   "outputs": [
    {
     "name": "stdout",
     "output_type": "stream",
     "text": [
      "Set parameter MIPGap to value 0.15\n",
      "Gurobi Optimizer version 9.5.0 build v9.5.0rc5 (mac64[x86])\n",
      "Thread count: 2 physical cores, 4 logical processors, using up to 4 threads\n",
      "Optimize a model with 1442 rows, 866 columns and 5600 nonzeros\n",
      "Model fingerprint: 0x6ca7b5bc\n",
      "Variable types: 338 continuous, 528 integer (528 binary)\n",
      "Coefficient statistics:\n",
      "  Matrix range     [1e+00, 1e+06]\n",
      "  Objective range  [4e+03, 9e+04]\n",
      "  Bounds range     [1e+00, 1e+00]\n",
      "  RHS range        [1e+00, 1e+06]\n",
      "Presolved: 1122 rows, 832 columns, 9248 nonzeros\n",
      "\n",
      "Continuing optimization...\n",
      "\n",
      "\n",
      "Interrupt request received\n",
      " 394385 286513 571612.173   51   23          - 468034.524      -  25.9  465s\n",
      " 397505 288436 505321.349  102   14          - 468055.704      -  25.9  470s\n",
      " 401576 291337 471959.573   45    4          - 468084.819      -  25.9  475s\n",
      " 406143 294458 517865.237   98   22          - 468124.355      -  25.9  480s\n",
      " 411047 298237 530933.545   49   16          - 468165.962      -  25.9  485s\n",
      " 417310 302748 539628.212   52   15          - 468209.972      -  25.9  490s\n",
      " 424478 307557 489586.273   48    9          - 468257.293      -  25.8  495s\n"
     ]
    }
   ],
   "source": [
    "m.update()\n",
    "#Writing LP file\n",
    "#m.Params.timeLimit = 200 #[s]\n",
    "m.Params.MIPGap = 0.15\n",
    "m.optimize()\n",
    "m.write('model_lab.lp')"
   ]
  },
  {
   "cell_type": "code",
   "execution_count": 15,
   "id": "c45a2525-6bec-4aac-8a11-8d1ab92b8307",
   "metadata": {},
   "outputs": [
    {
     "ename": "AttributeError",
     "evalue": "Unable to retrieve attribute 'x'",
     "output_type": "error",
     "traceback": [
      "\u001b[0;31m---------------------------------------------------------------------------\u001b[0m",
      "\u001b[0;31mAttributeError\u001b[0m                            Traceback (most recent call last)",
      "\u001b[0;32m/var/folders/81/wr37lgjs4nxb0wwc0brmqrpw0000gn/T/ipykernel_69448/3138921518.py\u001b[0m in \u001b[0;36m<module>\u001b[0;34m\u001b[0m\n\u001b[1;32m     32\u001b[0m \u001b[0mruh_m\u001b[0m \u001b[0;34m=\u001b[0m \u001b[0mplt\u001b[0m\u001b[0;34m.\u001b[0m\u001b[0mimread\u001b[0m\u001b[0;34m(\u001b[0m\u001b[0;34m'map.png'\u001b[0m\u001b[0;34m)\u001b[0m\u001b[0;34m\u001b[0m\u001b[0;34m\u001b[0m\u001b[0m\n\u001b[1;32m     33\u001b[0m \u001b[0;34m\u001b[0m\u001b[0m\n\u001b[0;32m---> 34\u001b[0;31m \u001b[0mactive_arcs\u001b[0m \u001b[0;34m=\u001b[0m \u001b[0;34m[\u001b[0m\u001b[0ma\u001b[0m \u001b[0;32mfor\u001b[0m \u001b[0ma\u001b[0m \u001b[0;32min\u001b[0m \u001b[0marcs\u001b[0m \u001b[0;32mif\u001b[0m \u001b[0mx\u001b[0m\u001b[0;34m[\u001b[0m\u001b[0ma\u001b[0m\u001b[0;34m]\u001b[0m\u001b[0;34m.\u001b[0m\u001b[0mx\u001b[0m \u001b[0;34m>\u001b[0m \u001b[0;36m0.99\u001b[0m\u001b[0;34m]\u001b[0m\u001b[0;34m\u001b[0m\u001b[0;34m\u001b[0m\u001b[0m\n\u001b[0m\u001b[1;32m     35\u001b[0m \u001b[0msorted_arcs\u001b[0m \u001b[0;34m=\u001b[0m \u001b[0mloop_finder\u001b[0m\u001b[0;34m(\u001b[0m\u001b[0mactive_arcs\u001b[0m\u001b[0;34m)\u001b[0m\u001b[0;34m\u001b[0m\u001b[0;34m\u001b[0m\u001b[0m\n\u001b[1;32m     36\u001b[0m \u001b[0mfig\u001b[0m\u001b[0;34m,\u001b[0m \u001b[0max\u001b[0m \u001b[0;34m=\u001b[0m \u001b[0mplt\u001b[0m\u001b[0;34m.\u001b[0m\u001b[0msubplots\u001b[0m\u001b[0;34m(\u001b[0m\u001b[0mfigsize\u001b[0m \u001b[0;34m=\u001b[0m \u001b[0;34m(\u001b[0m\u001b[0;36m8\u001b[0m\u001b[0;34m,\u001b[0m\u001b[0;36m7\u001b[0m\u001b[0;34m)\u001b[0m\u001b[0;34m)\u001b[0m\u001b[0;34m\u001b[0m\u001b[0;34m\u001b[0m\u001b[0m\n",
      "\u001b[0;32m/var/folders/81/wr37lgjs4nxb0wwc0brmqrpw0000gn/T/ipykernel_69448/3138921518.py\u001b[0m in \u001b[0;36m<listcomp>\u001b[0;34m(.0)\u001b[0m\n\u001b[1;32m     32\u001b[0m \u001b[0mruh_m\u001b[0m \u001b[0;34m=\u001b[0m \u001b[0mplt\u001b[0m\u001b[0;34m.\u001b[0m\u001b[0mimread\u001b[0m\u001b[0;34m(\u001b[0m\u001b[0;34m'map.png'\u001b[0m\u001b[0;34m)\u001b[0m\u001b[0;34m\u001b[0m\u001b[0;34m\u001b[0m\u001b[0m\n\u001b[1;32m     33\u001b[0m \u001b[0;34m\u001b[0m\u001b[0m\n\u001b[0;32m---> 34\u001b[0;31m \u001b[0mactive_arcs\u001b[0m \u001b[0;34m=\u001b[0m \u001b[0;34m[\u001b[0m\u001b[0ma\u001b[0m \u001b[0;32mfor\u001b[0m \u001b[0ma\u001b[0m \u001b[0;32min\u001b[0m \u001b[0marcs\u001b[0m \u001b[0;32mif\u001b[0m \u001b[0mx\u001b[0m\u001b[0;34m[\u001b[0m\u001b[0ma\u001b[0m\u001b[0;34m]\u001b[0m\u001b[0;34m.\u001b[0m\u001b[0mx\u001b[0m \u001b[0;34m>\u001b[0m \u001b[0;36m0.99\u001b[0m\u001b[0;34m]\u001b[0m\u001b[0;34m\u001b[0m\u001b[0;34m\u001b[0m\u001b[0m\n\u001b[0m\u001b[1;32m     35\u001b[0m \u001b[0msorted_arcs\u001b[0m \u001b[0;34m=\u001b[0m \u001b[0mloop_finder\u001b[0m\u001b[0;34m(\u001b[0m\u001b[0mactive_arcs\u001b[0m\u001b[0;34m)\u001b[0m\u001b[0;34m\u001b[0m\u001b[0;34m\u001b[0m\u001b[0m\n\u001b[1;32m     36\u001b[0m \u001b[0mfig\u001b[0m\u001b[0;34m,\u001b[0m \u001b[0max\u001b[0m \u001b[0;34m=\u001b[0m \u001b[0mplt\u001b[0m\u001b[0;34m.\u001b[0m\u001b[0msubplots\u001b[0m\u001b[0;34m(\u001b[0m\u001b[0mfigsize\u001b[0m \u001b[0;34m=\u001b[0m \u001b[0;34m(\u001b[0m\u001b[0;36m8\u001b[0m\u001b[0;34m,\u001b[0m\u001b[0;36m7\u001b[0m\u001b[0;34m)\u001b[0m\u001b[0;34m)\u001b[0m\u001b[0;34m\u001b[0m\u001b[0;34m\u001b[0m\u001b[0m\n",
      "\u001b[0;32msrc/gurobipy/var.pxi\u001b[0m in \u001b[0;36mgurobipy.Var.__getattr__\u001b[0;34m()\u001b[0m\n",
      "\u001b[0;32msrc/gurobipy/var.pxi\u001b[0m in \u001b[0;36mgurobipy.Var.getAttr\u001b[0;34m()\u001b[0m\n",
      "\u001b[0;32msrc/gurobipy/attrutil.pxi\u001b[0m in \u001b[0;36mgurobipy.__getattr\u001b[0;34m()\u001b[0m\n",
      "\u001b[0;31mAttributeError\u001b[0m: Unable to retrieve attribute 'x'"
     ]
    }
   ],
   "source": [
    "def loop_finder(arc):\n",
    "    starting_list = []\n",
    "    for i in range(0,len(arc)):\n",
    "        if arc[i][0] == 0:\n",
    "            starting_list.append(arc[i])\n",
    "    sorted_list = []\n",
    "    for i in range(0, len(starting_list)):\n",
    "        sorted_list.append(starting_list[i])\n",
    "        j = 0\n",
    "        while j < len(arc):\n",
    "            j += 1\n",
    "            if sorted_list[-1][1]== arc[j][0]:\n",
    "                sorted_list.append(arc[j])\n",
    "                j = 0 \n",
    "            if sorted_list[-1][1]== 0:\n",
    "                j = len(arc)\n",
    "    index = []\n",
    "    for i in range(0,len(sorted_list)):\n",
    "        if sorted_list[i][0]== 0:\n",
    "            index.append(i)\n",
    "    #print(len(index))\n",
    "    index.append(len(sorted_list))\n",
    "    loops = []\n",
    "    for i in range(0,len(index)):\n",
    "        loops.append(sorted_list[index[i-1]:index[i]])\n",
    "    loops = loops[1:]\n",
    "    return loops\n",
    "\n",
    "#Plotting\n",
    "\n",
    "BBox = ((min(long)-0.1,   max(long)+0.1,  min(lat)-0.1, max(lat)+0.1))\n",
    "ruh_m = plt.imread('map.png')\n",
    "\n",
    "active_arcs = [a for a in arcs if x[a].x > 0.99]\n",
    "sorted_arcs = loop_finder(active_arcs)\n",
    "fig, ax = plt.subplots(figsize = (8,7))\n",
    "color = ['g','r','b',\"y\"]\n",
    "linestyle = [':' ]\n",
    "for k in range(len(sorted_arcs)):\n",
    "    for i, j in sorted_arcs[k]:\n",
    "        ax.plot([long[i], long[j]], [lat[i], lat[j]], c=color[k], linestyle= ':', zorder=1)\n",
    "        ax.annotate(nodes[i], (long[i]+0.01, lat[i]+0.01))\n",
    "ax.plot(long[0], lat[0], c='r', marker='s')\n",
    "ax.scatter(long[1:], lat[1:], c='b')\n",
    "\n",
    "ax.set_xlim(BBox[0],BBox[1])\n",
    "ax.set_ylim(BBox[2],BBox[3])\n",
    "ax.imshow(ruh_m, zorder=0, extent = BBox, aspect= 'equal')\n",
    "plt.show()\n",
    "\n",
    "'''\n",
    "#Plotting\n",
    "BBox = ((min(long)-0.1,   max(long)+0.1,  min(lat)-0.1, max(lat)+0.1))\n",
    "ruh_m = plt.imread('map.png')\n",
    "\n",
    "active_arcs = [a for a in arcs if x[a].x > 0.99]\n",
    "fig, ax = plt.subplots(figsize = (8,7))\n",
    "\n",
    "for i, j in active_arcs:\n",
    "    ax.plot([long[i], long[j]], [lat[i], lat[j]], c='g', linestyle= ':', zorder=1)\n",
    "    ax.annotate(nodes[i], (long[i]+0.01, lat[i]+0.01))\n",
    "\n",
    "ax.plot(long[0], lat[0], c='r', marker='s')\n",
    "ax.scatter(long[1:], lat[1:], c='b')\n",
    "ax.set_xlim(BBox[0],BBox[1])\n",
    "ax.set_ylim(BBox[2],BBox[3])\n",
    "\n",
    "\n",
    "ax.imshow(ruh_m, zorder=0, extent = BBox, aspect= 'equal')\n",
    "plt.show()'''"
   ]
  },
  {
   "cell_type": "code",
   "execution_count": null,
   "id": "fd8cc458-89d2-417b-afbc-6aa5b4a58018",
   "metadata": {
    "tags": []
   },
   "outputs": [],
   "source": [
    "for v in m.getVars():\n",
    "        print(str(v.VarName)+'='+str(v.x))\n",
    "print(m.objVal)"
   ]
  },
  {
   "cell_type": "code",
   "execution_count": null,
   "id": "5ad83071-6823-4e36-a572-14c37ec20228",
   "metadata": {},
   "outputs": [],
   "source": [
    "#Plotting\n",
    "long = client_50['lon']\n",
    "lat = client_50['lat']\n",
    "\n",
    "BBox = ((min(long)-0.1,   max(long)+0.1,  min(lat)-0.1, max(lat)+0.1))\n",
    "ruh_m = plt.imread('map.png')\n",
    "\n",
    "fig, ax = plt.subplots(figsize = (8,7))\n",
    "\n",
    "ax.plot(depo_long, depo_lat, c='r', marker='s')\n",
    "ax.scatter(long, lat, c='b')\n",
    "ax.set_xlim(BBox[0],BBox[1])\n",
    "ax.set_ylim(BBox[2],BBox[3])\n",
    "\n",
    "ax.imshow(ruh_m, zorder=0, extent = BBox, aspect= 'equal')\n",
    "plt.show()"
   ]
  }
 ],
 "metadata": {
  "kernelspec": {
   "display_name": "Python 3 (ipykernel)",
   "language": "python",
   "name": "python3"
  },
  "language_info": {
   "codemirror_mode": {
    "name": "ipython",
    "version": 3
   },
   "file_extension": ".py",
   "mimetype": "text/x-python",
   "name": "python",
   "nbconvert_exporter": "python",
   "pygments_lexer": "ipython3",
   "version": "3.8.8"
  }
 },
 "nbformat": 4,
 "nbformat_minor": 5
}
