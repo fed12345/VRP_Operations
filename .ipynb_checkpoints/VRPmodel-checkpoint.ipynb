{
 "cells": [
  {
   "cell_type": "code",
   "execution_count": 10,
   "id": "470d987d-5730-4744-8954-fa60bcf3d9ac",
   "metadata": {},
   "outputs": [],
   "source": [
    "import gurobipy as gp\n",
    "from gurobipy import GRB\n",
    "import pickle\n",
    "from copy import deepcopy\n",
    "import random \n",
    "import numpy as np\n",
    "from matplotlib import pyplot as plt\n"
   ]
  },
  {
   "cell_type": "code",
   "execution_count": 11,
   "id": "59199968-ae09-4c21-9f75-ef9d7d056fa5",
   "metadata": {},
   "outputs": [],
   "source": [
    "# Nodes\n",
    "n = 7\n",
    "clients = [ i for i in range(n) if i !=0]\n",
    "nodes = [0]+clients #+[n-1]\n",
    "arcs = [(i,j) for i in nodes for j in nodes if i!=j]\n",
    "cost = random.sample(range(20,200),len(arcs))\n",
    "c = { arcs[i]:  cost[i] for i in range(len(arcs))}\n",
    "\n",
    "np.random.seed(0)\n",
    "q = {n:np.random.randint(10,15) for n in clients}\n",
    "#q[0] = 0\n",
    "#q[6] = 0\n",
    "Q = 50\n",
    "\n",
    "# coordinates\n",
    "X = np.random.rand(len(nodes))*100\n",
    "Y = np.random.rand(len(nodes))*100"
   ]
  },
  {
   "cell_type": "code",
   "execution_count": 12,
   "id": "57c8402c-ff0b-465b-8fa2-8b856d5339b7",
   "metadata": {},
   "outputs": [],
   "source": [
    "# distance\n",
    "distance = {(i,j): np.hypot(X[i]-X[j],Y[i]-Y[j]) for i in nodes for j in nodes if i!=j}\n"
   ]
  },
  {
   "cell_type": "code",
   "execution_count": 13,
   "id": "ed4c6bd3-ab30-4ba9-9961-550f7485ca14",
   "metadata": {},
   "outputs": [
    {
     "data": {
      "image/png": "[encoded data removed]",
      "text/plain": [
       "<Figure size 864x360 with 1 Axes>"
      ]
     },
     "metadata": {
      "needs_background": "light"
     },
     "output_type": "display_data"
    }
   ],
   "source": [
    "plt.figure(figsize=(12,5))\n",
    "plt.scatter(X,Y,color =  'blue')\n",
    "\n",
    "#DC\n",
    "plt.scatter(X[0],Y[0],color = 'red', marker='D')\n",
    "plt.annotate('DC',(X[0]-1,Y[0]-5.5))\n",
    "\n",
    "for i in clients:\n",
    "    plt.annotate('$q_{%d}=%d$'%(i,q[i]),(X[i]-1,Y[i]-5.5))\n",
    "    \n",
    "plt.xlabel('Distance X')\n",
    "plt.ylabel('Distance Y')\n",
    "plt.title('Solution Travel Salesman Problem')\n",
    "plt.show()"
   ]
  },
  {
   "cell_type": "code",
   "execution_count": 14,
   "id": "0d54d3f1-3d6a-488d-a36b-22e9f106549e",
   "metadata": {},
   "outputs": [],
   "source": [
    "# not connected!\n",
    "#arcs = [(0,1),(0,2), (0,5), (1,2),(1,3),(1,4),(1,5),(1,6),(2,3),(2,6),(3,4),(4,5),(5,6),(2,1),(3,1),(4,1),(5,1),(3,2),(4,3),(5,4)]\n",
    "#cost = [11,10,10,5,15,15,5,10,15,10,20,15,10,5,15,15,5,15,20,15]\n",
    "#c = { arcs[i]:  cost[i] for i in range(len(arcs))}"
   ]
  },
  {
   "cell_type": "code",
   "execution_count": null,
   "id": "6b7555f8-f280-4877-9b66-99f804087ab3",
   "metadata": {},
   "outputs": [],
   "source": []
  },
  {
   "cell_type": "code",
   "execution_count": 15,
   "id": "e93f6c56-b9ba-4d05-be99-4b40d67fbee0",
   "metadata": {},
   "outputs": [
    {
     "name": "stdout",
     "output_type": "stream",
     "text": [
      "Restricted license - for non-production use only - expires 2023-10-25\n"
     ]
    }
   ],
   "source": [
    "# Create Model\n",
    "m = gp.Model('CVRP')"
   ]
  },
  {
   "cell_type": "code",
   "execution_count": 16,
   "id": "78f2f7d1-73c7-4ba2-86b4-6fe6ec70d6e0",
   "metadata": {},
   "outputs": [],
   "source": [
    "# Adding variables\n",
    "x = m.addVars(arcs,vtype = GRB.BINARY,name='x')         # x = arcs\n",
    "u = m.addVars(clients,ub = Q,vtype = GRB.CONTINUOUS,name='u')  # u = clients"
   ]
  },
  {
   "cell_type": "code",
   "execution_count": 17,
   "id": "a31fca2d-5935-4e94-8a1c-92151324bb14",
   "metadata": {},
   "outputs": [],
   "source": [
    "# Objective Function\n",
    "m.setObjective(gp.quicksum(c[i,j]*x[i,j] for i,j in arcs),GRB.MINIMIZE)"
   ]
  },
  {
   "cell_type": "code",
   "execution_count": 18,
   "id": "d3e65514-e346-43df-8ca9-e7de7d81b1b3",
   "metadata": {},
   "outputs": [
    {
     "data": {
      "text/plain": [
       "{1: <gurobi.Constr *Awaiting Model Update*>,\n",
       " 2: <gurobi.Constr *Awaiting Model Update*>,\n",
       " 3: <gurobi.Constr *Awaiting Model Update*>,\n",
       " 4: <gurobi.Constr *Awaiting Model Update*>,\n",
       " 5: <gurobi.Constr *Awaiting Model Update*>,\n",
       " 6: <gurobi.Constr *Awaiting Model Update*>}"
      ]
     },
     "execution_count": 18,
     "metadata": {},
     "output_type": "execute_result"
    }
   ],
   "source": [
    "#Constraints\n",
    "\n",
    "# first constraint: check that each customer is visited once by a vehicle\n",
    "m.addConstrs(gp.quicksum(x[i,j] for j in nodes if j!= i) == 1 for i in clients)"
   ]
  },
  {
   "cell_type": "code",
   "execution_count": 19,
   "id": "9cc403f6-51f2-489a-a3fa-1383e9e855d5",
   "metadata": {},
   "outputs": [
    {
     "data": {
      "text/plain": [
       "{1: <gurobi.Constr *Awaiting Model Update*>,\n",
       " 2: <gurobi.Constr *Awaiting Model Update*>,\n",
       " 3: <gurobi.Constr *Awaiting Model Update*>,\n",
       " 4: <gurobi.Constr *Awaiting Model Update*>,\n",
       " 5: <gurobi.Constr *Awaiting Model Update*>,\n",
       " 6: <gurobi.Constr *Awaiting Model Update*>}"
      ]
     },
     "execution_count": 19,
     "metadata": {},
     "output_type": "execute_result"
    }
   ],
   "source": [
    "# second constraint: check that if a vehicle visits a client, the vehicle leaves the client\n",
    "m.addConstrs(gp.quicksum(x[i,j] for i in nodes if j!= i) == 1 for j in clients)"
   ]
  },
  {
   "cell_type": "code",
   "execution_count": 20,
   "id": "5544c724-d682-493b-ab00-6469bfad2b4c",
   "metadata": {},
   "outputs": [
    {
     "data": {
      "text/plain": [
       "{(1, 2): <gurobi.GenConstr *Awaiting Model Update*>,\n",
       " (1, 3): <gurobi.GenConstr *Awaiting Model Update*>,\n",
       " (1, 4): <gurobi.GenConstr *Awaiting Model Update*>,\n",
       " (1, 5): <gurobi.GenConstr *Awaiting Model Update*>,\n",
       " (1, 6): <gurobi.GenConstr *Awaiting Model Update*>,\n",
       " (2, 1): <gurobi.GenConstr *Awaiting Model Update*>,\n",
       " (2, 3): <gurobi.GenConstr *Awaiting Model Update*>,\n",
       " (2, 4): <gurobi.GenConstr *Awaiting Model Update*>,\n",
       " (2, 5): <gurobi.GenConstr *Awaiting Model Update*>,\n",
       " (2, 6): <gurobi.GenConstr *Awaiting Model Update*>,\n",
       " (3, 1): <gurobi.GenConstr *Awaiting Model Update*>,\n",
       " (3, 2): <gurobi.GenConstr *Awaiting Model Update*>,\n",
       " (3, 4): <gurobi.GenConstr *Awaiting Model Update*>,\n",
       " (3, 5): <gurobi.GenConstr *Awaiting Model Update*>,\n",
       " (3, 6): <gurobi.GenConstr *Awaiting Model Update*>,\n",
       " (4, 1): <gurobi.GenConstr *Awaiting Model Update*>,\n",
       " (4, 2): <gurobi.GenConstr *Awaiting Model Update*>,\n",
       " (4, 3): <gurobi.GenConstr *Awaiting Model Update*>,\n",
       " (4, 5): <gurobi.GenConstr *Awaiting Model Update*>,\n",
       " (4, 6): <gurobi.GenConstr *Awaiting Model Update*>,\n",
       " (5, 1): <gurobi.GenConstr *Awaiting Model Update*>,\n",
       " (5, 2): <gurobi.GenConstr *Awaiting Model Update*>,\n",
       " (5, 3): <gurobi.GenConstr *Awaiting Model Update*>,\n",
       " (5, 4): <gurobi.GenConstr *Awaiting Model Update*>,\n",
       " (5, 6): <gurobi.GenConstr *Awaiting Model Update*>,\n",
       " (6, 1): <gurobi.GenConstr *Awaiting Model Update*>,\n",
       " (6, 2): <gurobi.GenConstr *Awaiting Model Update*>,\n",
       " (6, 3): <gurobi.GenConstr *Awaiting Model Update*>,\n",
       " (6, 4): <gurobi.GenConstr *Awaiting Model Update*>,\n",
       " (6, 5): <gurobi.GenConstr *Awaiting Model Update*>}"
      ]
     },
     "execution_count": 20,
     "metadata": {},
     "output_type": "execute_result"
    }
   ],
   "source": [
    "# third constraint: avoid subtours (TO TAKE OUT LATER)\n",
    "m.addConstrs((x[i,j]==1) >> (u[i]+q[j]== u[j]) for i,j in arcs if j!=0 and i!=0)"
   ]
  },
  {
   "cell_type": "code",
   "execution_count": 21,
   "id": "285e286c-5274-4212-8751-5abacb236852",
   "metadata": {},
   "outputs": [
    {
     "data": {
      "text/plain": [
       "{1: <gurobi.Constr *Awaiting Model Update*>,\n",
       " 2: <gurobi.Constr *Awaiting Model Update*>,\n",
       " 3: <gurobi.Constr *Awaiting Model Update*>,\n",
       " 4: <gurobi.Constr *Awaiting Model Update*>,\n",
       " 5: <gurobi.Constr *Awaiting Model Update*>,\n",
       " 6: <gurobi.Constr *Awaiting Model Update*>}"
      ]
     },
     "execution_count": 21,
     "metadata": {},
     "output_type": "execute_result"
    }
   ],
   "source": [
    "m.addConstrs(u[i]>=q[i] for i in clients)"
   ]
  },
  {
   "cell_type": "code",
   "execution_count": 22,
   "id": "7892dfb9-f3e8-4027-8bd2-4509196637ad",
   "metadata": {},
   "outputs": [
    {
     "data": {
      "text/plain": [
       "{1: <gurobi.Constr *Awaiting Model Update*>,\n",
       " 2: <gurobi.Constr *Awaiting Model Update*>,\n",
       " 3: <gurobi.Constr *Awaiting Model Update*>,\n",
       " 4: <gurobi.Constr *Awaiting Model Update*>,\n",
       " 5: <gurobi.Constr *Awaiting Model Update*>,\n",
       " 6: <gurobi.Constr *Awaiting Model Update*>}"
      ]
     },
     "execution_count": 22,
     "metadata": {},
     "output_type": "execute_result"
    }
   ],
   "source": [
    "m.addConstrs(u[i]<= Q for i in clients)"
   ]
  },
  {
   "cell_type": "code",
   "execution_count": 23,
   "id": "2f05fc92-afaf-48eb-83c0-0fd461ef98dc",
   "metadata": {},
   "outputs": [
    {
     "name": "stdout",
     "output_type": "stream",
     "text": [
      "Set parameter TimeLimit to value 60\n",
      "Set parameter MIPGap to value 0.1\n",
      "Gurobi Optimizer version 9.5.0 build v9.5.0rc5 (mac64[x86])\n",
      "Thread count: 2 physical cores, 4 logical processors, using up to 4 threads\n",
      "Optimize a model with 24 rows, 48 columns and 84 nonzeros\n",
      "Model fingerprint: 0x10fd0d6a\n",
      "Model has 30 general constraints\n",
      "Variable types: 6 continuous, 42 integer (42 binary)\n",
      "Coefficient statistics:\n",
      "  Matrix range     [1e+00, 1e+00]\n",
      "  Objective range  [2e+01, 2e+02]\n",
      "  Bounds range     [1e+00, 5e+01]\n",
      "  RHS range        [1e+00, 5e+01]\n",
      "  GenCon rhs range [1e+01, 1e+01]\n",
      "  GenCon coe range [1e+00, 1e+00]\n",
      "Presolve added 63 rows and 3 columns\n",
      "Presolve time: 0.03s\n",
      "Presolved: 87 rows, 51 columns, 375 nonzeros\n",
      "Variable types: 21 continuous, 30 integer (30 binary)\n",
      "Found heuristic solution: objective 1426.0000000\n",
      "\n",
      "Root relaxation: objective 3.381164e+02, 46 iterations, 0.00 seconds (0.00 work units)\n",
      "\n",
      "    Nodes    |    Current Node    |     Objective Bounds      |     Work\n",
      " Expl Unexpl |  Obj  Depth IntInf | Incumbent    BestBd   Gap | It/Node Time\n",
      "\n",
      "     0     0  338.11642    0    9 1426.00000  338.11642  76.3%     -    0s\n",
      "H    0     0                    1041.0000000  338.11642  67.5%     -    0s\n",
      "H    0     0                     782.0000000  338.11642  56.8%     -    0s\n",
      "H    0     0                     742.0000000  338.11642  54.4%     -    0s\n",
      "H    0     0                     560.0000000  338.11642  39.6%     -    0s\n",
      "     0     0  339.61846    0    9  560.00000  339.61846  39.4%     -    0s\n",
      "     0     0  354.28833    0    9  560.00000  354.28833  36.7%     -    0s\n",
      "     0     0  355.08000    0    9  560.00000  355.08000  36.6%     -    0s\n",
      "     0     0  356.67548    0   11  560.00000  356.67548  36.3%     -    0s\n",
      "H    0     0                     504.0000000  356.67548  29.2%     -    0s\n",
      "     0     0  356.67548    0   11  504.00000  356.67548  29.2%     -    0s\n",
      "     0     0  356.67548    0   11  504.00000  356.67548  29.2%     -    0s\n",
      "     0     0  356.67548    0   11  504.00000  356.67548  29.2%     -    0s\n",
      "     0     2  356.67548    0   11  504.00000  356.67548  29.2%     -    0s\n",
      "\n",
      "Cutting planes:\n",
      "  Gomory: 2\n",
      "  Implied bound: 1\n",
      "  MIR: 1\n",
      "  StrongCG: 1\n",
      "  Relax-and-lift: 1\n",
      "\n",
      "Explored 35 nodes (367 simplex iterations) in 0.33 seconds (0.02 work units)\n",
      "Thread count was 4 (of 4 available processors)\n",
      "\n",
      "Solution count 6: 504 560 742 ... 1426\n",
      "\n",
      "Optimal solution found (tolerance 1.00e-01)\n",
      "Best objective 5.040000000000e+02, best bound 4.780000000000e+02, gap 5.1587%\n"
     ]
    }
   ],
   "source": [
    "m.Params.timeLimit = 60\n",
    "m.Params.MIPGap = 0.1\n",
    "m.optimize()"
   ]
  },
  {
   "cell_type": "code",
   "execution_count": 25,
   "id": "cc5a15e6-49ef-4acc-aa4f-874b4d974f65",
   "metadata": {},
   "outputs": [
    {
     "name": "stdout",
     "output_type": "stream",
     "text": [
      "Objective Function:  504.0\n",
      "x[0,1]=1.0\n",
      "x[0,4]=1.0\n",
      "x[1,2]=1.0\n",
      "x[2,6]=1.0\n",
      "x[3,5]=1.0\n",
      "x[4,3]=1.0\n",
      "x[5,0]=1.0\n",
      "x[6,0]=1.0\n",
      "u[1]=13.999999999999922\n",
      "u[2]=23.999999999999922\n",
      "u[3]=37.00000000000006\n",
      "u[4]=24.000000000000057\n",
      "u[5]=50.00000000000006\n",
      "u[6]=34.99999999999992\n"
     ]
    }
   ],
   "source": [
    "print('Objective Function: ',str(round(m.ObjVal,2)))\n",
    "for v in m.getVars():\n",
    "    if v.x > 0.9:\n",
    "        print(str(v.VarName)+'='+str(v.x))\n",
    "        "
   ]
  },
  {
   "cell_type": "code",
   "execution_count": 26,
   "id": "9ce9b065-bd60-401c-a9e4-d69b3cc16c3f",
   "metadata": {},
   "outputs": [
    {
     "data": {
      "text/plain": [
       "[[0, 1, 2, 6, 0], [0, 4, 3, 5, 0]]"
      ]
     },
     "execution_count": 26,
     "metadata": {},
     "output_type": "execute_result"
    }
   ],
   "source": [
    "routes = list()\n",
    "for i in clients:\n",
    "    if x[(0,i)].x > 0.9:\n",
    "        aux = [0,i]\n",
    "        while i != 0:\n",
    "            j = i\n",
    "            for k in nodes:\n",
    "                if j!=k and x[(j,k)].x > 0.9:\n",
    "                    aux.append(k)\n",
    "                    i=k\n",
    "        routes.append(aux)\n",
    "routes"
   ]
  },
  {
   "cell_type": "code",
   "execution_count": 30,
   "id": "00818fed-4f92-4991-abc0-ed228d86cf5d",
   "metadata": {},
   "outputs": [
    {
     "ename": "ModuleNotFoundError",
     "evalue": "No module named 'Color'",
     "output_type": "error",
     "traceback": [
      "\u001b[0;31m---------------------------------------------------------------------------\u001b[0m",
      "\u001b[0;31mModuleNotFoundError\u001b[0m                       Traceback (most recent call last)",
      "\u001b[0;32m<ipython-input-30-a1a8757a01d1>\u001b[0m in \u001b[0;36m<module>\u001b[0;34m\u001b[0m\n\u001b[0;32m----> 1\u001b[0;31m \u001b[0;32mfrom\u001b[0m \u001b[0mColor\u001b[0m \u001b[0;32mimport\u001b[0m \u001b[0mColor\u001b[0m\u001b[0;34m\u001b[0m\u001b[0;34m\u001b[0m\u001b[0m\n\u001b[0m\u001b[1;32m      2\u001b[0m \u001b[0;34m\u001b[0m\u001b[0m\n\u001b[1;32m      3\u001b[0m \u001b[0mplt\u001b[0m\u001b[0;34m.\u001b[0m\u001b[0mfigure\u001b[0m\u001b[0;34m(\u001b[0m\u001b[0mfigsize\u001b[0m\u001b[0;34m=\u001b[0m\u001b[0;34m(\u001b[0m\u001b[0;36m12\u001b[0m\u001b[0;34m,\u001b[0m\u001b[0;36m5\u001b[0m\u001b[0;34m)\u001b[0m\u001b[0;34m)\u001b[0m\u001b[0;34m\u001b[0m\u001b[0;34m\u001b[0m\u001b[0m\n\u001b[1;32m      4\u001b[0m \u001b[0mplt\u001b[0m\u001b[0;34m.\u001b[0m\u001b[0mscatter\u001b[0m\u001b[0;34m(\u001b[0m\u001b[0mX\u001b[0m\u001b[0;34m,\u001b[0m\u001b[0mY\u001b[0m\u001b[0;34m,\u001b[0m\u001b[0mcolor\u001b[0m \u001b[0;34m=\u001b[0m \u001b[0;34m'blue'\u001b[0m\u001b[0;34m)\u001b[0m\u001b[0;34m\u001b[0m\u001b[0;34m\u001b[0m\u001b[0m\n\u001b[1;32m      5\u001b[0m \u001b[0;34m\u001b[0m\u001b[0m\n",
      "\u001b[0;31mModuleNotFoundError\u001b[0m: No module named 'Color'"
     ]
    }
   ],
   "source": [
    "from Color import Color\n",
    "\n",
    "plt.figure(figsize=(12,5))\n",
    "plt.scatter(X,Y,color = 'blue')\n",
    "\n",
    "#DC\n",
    "plt.scatter(X[0],Y[0],color='red',marker='D')\n",
    "plt.annotate('DC',(X[0]-1,Y[0]-5.5))\n",
    "\n",
    "for i in clients:\n",
    "    plt.annotate('$q_{%d}=%d$'%(i,q[i]),(X[i]-1,Y[i]-5.5))\n",
    "    \n",
    "for r in range(len(routes)):\n",
    "    for n in range(len(routes[r])-1):\n",
    "        i = routes[r][n]\n",
    "        j = routes[r][n+1]\n",
    "        plt.plot([X[i],X[j]],[Y[i],Y[j]],color = Color(r),alpha = 0.4)\n",
    "        \n",
    "plt.xlabel('Distance X')\n",
    "plt.ylabel('Distance Y')\n",
    "plt.title('Vehicle Routing Problem')\n"
   ]
  },
  {
   "cell_type": "code",
   "execution_count": null,
   "id": "fd8cc458-89d2-417b-afbc-6aa5b4a58018",
   "metadata": {},
   "outputs": [],
   "source": []
  }
 ],
 "metadata": {
  "kernelspec": {
   "display_name": "Python 3",
   "language": "python",
   "name": "python3"
  },
  "language_info": {
   "codemirror_mode": {
    "name": "ipython",
    "version": 3
   },
   "file_extension": ".py",
   "mimetype": "text/x-python",
   "name": "python",
   "nbconvert_exporter": "python",
   "pygments_lexer": "ipython3",
   "version": "3.8.8"
  }
 },
 "nbformat": 4,
 "nbformat_minor": 5
}
