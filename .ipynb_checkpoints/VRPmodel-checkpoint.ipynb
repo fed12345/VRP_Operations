{
 "cells": [
  {
   "cell_type": "markdown",
   "id": "bf2d6383-3676-4bff-9f4e-4584dd69cdb1",
   "metadata": {},
   "source": [
    "# *Drone Delivery: a Vehicle Routing Problem*\n",
    "\n",
    "Authors: Adrian Menor, Federico Magri, Youssef Farah\n",
    "\n",
    "// add description "
   ]
  },
  {
   "cell_type": "markdown",
   "id": "17efc318-5ed2-40ef-ac4a-f7c087af3930",
   "metadata": {},
   "source": [
    "## Import Packages"
   ]
  },
  {
   "cell_type": "code",
   "execution_count": 1,
   "id": "c033ff87-6a05-4176-ae0c-2c63e8d98fdb",
   "metadata": {},
   "outputs": [],
   "source": [
    "import numpy as np\n",
    "import numpy as np\n",
    "import matplotlib.pyplot as plt\n",
    "import gurobipy as gp\n",
    "from gurobipy import GRB\n",
    "import random"
   ]
  },
  {
   "cell_type": "markdown",
   "id": "7186d4ec-7c9e-4ee3-bb6f-9d9fca79aa9b",
   "metadata": {},
   "source": [
    "## VRP Model"
   ]
  },
  {
   "cell_type": "markdown",
   "id": "10fcc090-dbea-446c-9afd-4118bb12c039",
   "metadata": {},
   "source": [
    "### Classes "
   ]
  },
  {
   "cell_type": "code",
   "execution_count": 2,
   "id": "f59c015e-da7b-41d6-9ea9-425dfba9bcaa",
   "metadata": {},
   "outputs": [],
   "source": [
    "#DATASET \n",
    "#Here we create the dataset\n",
    "#Initialize\n",
    "class Drones():\n",
    "    def __init__(self, name, maxspeed, maxpayload, number_of_drones):\n",
    "        self.name = name\n",
    "        self.maxspeed = maxspeed\n",
    "        self.maxpayload = maxpayload\n",
    "        self.number_of_drones = number_of_drones\n",
    "\n",
    "class Clients():\n",
    "    number_of_clients = 0\n",
    "    def __init__(self, number, x_coord, y_coord, demand):\n",
    "        self.number = number\n",
    "        self.x_coord = x_coord\n",
    "        self.y_coord = y_coord\n",
    "        self.demand = demand\n",
    "        Clients.number_of_clients += 1"
   ]
  },
  {
   "cell_type": "markdown",
   "id": "5d136d91-e953-41ee-8bb5-a0200484adcd",
   "metadata": {},
   "source": [
    "### Sample Dataset"
   ]
  },
  {
   "cell_type": "code",
   "execution_count": 3,
   "id": "81cee551-cb8f-4eba-b620-42e3dc4e9fd4",
   "metadata": {},
   "outputs": [],
   "source": [
    "Clients.number_of_clients = 0\n",
    "drones = Drones(\"Amazon Drone\", 10, 5, 5)#(name, maxspeed, maxpayload, number_of_drones)\n",
    "\n",
    "clients_list = []\n",
    "for i in range(1,11):\n",
    "    x_cord = random.sample(range(-100,100),1)[0]\n",
    "    y_cord = random.sample(range(-100,100),1)[0]\n",
    "    client = Clients(i, x_cord,y_cord, random.randint(1,5))\n",
    "    clients_list.append(client)\n",
    "\n",
    "T = 60 # [s] total delivery duration\n"
   ]
  },
  {
   "cell_type": "code",
   "execution_count": 4,
   "id": "145c9c14-3ed4-4400-b61c-1fe69ab960c8",
   "metadata": {},
   "outputs": [
    {
     "name": "stdout",
     "output_type": "stream",
     "text": [
      "<__main__.Drones object at 0x7fbdfc55b820>\n"
     ]
    }
   ],
   "source": [
    "print(drones)"
   ]
  },
  {
   "cell_type": "markdown",
   "id": "21699d32-f9c8-4a31-8425-d361adade6e7",
   "metadata": {},
   "source": [
    "## Model Setup"
   ]
  },
  {
   "cell_type": "code",
   "execution_count": 5,
   "id": "8245223f-2d32-4545-a9cb-6fddcf42c79d",
   "metadata": {},
   "outputs": [],
   "source": [
    "# Basic problem variables\n",
    "n = Clients.number_of_clients # nodes\n",
    "clients = [i for i in range(1,n+1)]   # N_0\n",
    "nodes = [0]+clients                   # N\n",
    "N_N_0 = [(i,j) for i in nodes for j in clients if i!=j]\n",
    "xc = [0]+[xc.x_coord for xc in clients_list] # customer x locations\n",
    "yc = [0]+[yc.y_coord for yc in clients_list] #rnd.rand(n-1)*100 # customer y locations"
   ]
  },
  {
   "cell_type": "code",
   "execution_count": 6,
   "id": "403db4b0-0e05-4d8e-a477-6aee6a7a4160",
   "metadata": {},
   "outputs": [
    {
     "name": "stdout",
     "output_type": "stream",
     "text": [
      "[(0, 1), (0, 2), (0, 3), (0, 4), (0, 5), (0, 6), (0, 7), (0, 8), (0, 9), (0, 10), (1, 2), (1, 3), (1, 4), (1, 5), (1, 6), (1, 7), (1, 8), (1, 9), (1, 10), (2, 1), (2, 3), (2, 4), (2, 5), (2, 6), (2, 7), (2, 8), (2, 9), (2, 10), (3, 1), (3, 2), (3, 4), (3, 5), (3, 6), (3, 7), (3, 8), (3, 9), (3, 10), (4, 1), (4, 2), (4, 3), (4, 5), (4, 6), (4, 7), (4, 8), (4, 9), (4, 10), (5, 1), (5, 2), (5, 3), (5, 4), (5, 6), (5, 7), (5, 8), (5, 9), (5, 10), (6, 1), (6, 2), (6, 3), (6, 4), (6, 5), (6, 7), (6, 8), (6, 9), (6, 10), (7, 1), (7, 2), (7, 3), (7, 4), (7, 5), (7, 6), (7, 8), (7, 9), (7, 10), (8, 1), (8, 2), (8, 3), (8, 4), (8, 5), (8, 6), (8, 7), (8, 9), (8, 10), (9, 1), (9, 2), (9, 3), (9, 4), (9, 5), (9, 6), (9, 7), (9, 8), (9, 10), (10, 1), (10, 2), (10, 3), (10, 4), (10, 5), (10, 6), (10, 7), (10, 8), (10, 9)]\n"
     ]
    }
   ],
   "source": [
    "print(N_N_0)"
   ]
  },
  {
   "cell_type": "code",
   "execution_count": 7,
   "id": "704a7cff-f919-4db1-822b-858fc92c1009",
   "metadata": {},
   "outputs": [
    {
     "name": "stdout",
     "output_type": "stream",
     "text": [
      "[0, 1, 2, 3, 4, 5, 6, 7, 8, 9, 10]\n"
     ]
    }
   ],
   "source": [
    "print(nodes)"
   ]
  },
  {
   "cell_type": "code",
   "execution_count": 8,
   "id": "0c951473-da19-4823-9c0b-ed4f4ff89e6e",
   "metadata": {},
   "outputs": [
    {
     "name": "stdout",
     "output_type": "stream",
     "text": [
      "[1, 2, 3, 4, 5, 6, 7, 8, 9, 10]\n"
     ]
    }
   ],
   "source": [
    "print(clients)"
   ]
  },
  {
   "cell_type": "code",
   "execution_count": 9,
   "id": "414094de-9a38-418f-b3d7-bfca460fb1ca",
   "metadata": {},
   "outputs": [],
   "source": [
    "# Drone parameters\n",
    "M = drones.number_of_drones # Number of drones\n",
    "K = 100                     # upper bound payload weight [kg]\n",
    "v = drones.maxspeed         # drone speed                [m/s]\n",
    "Q = drones.maxpayload       # max drone payload          [kg] "
   ]
  },
  {
   "cell_type": "code",
   "execution_count": 10,
   "id": "468b048c-13e0-4839-8c57-a7b008438427",
   "metadata": {},
   "outputs": [],
   "source": [
    "# Decision variables\n",
    "arcs = [(i,j) for i in nodes for j in nodes if i!=j]      # fully connected links (N x N)\n",
    "sigma_var = [(i,j) for i in clients for j in clients ] # going through depot\n",
    "y = arcs # payload weight between paths\n",
    "t = [i for i in nodes] # time at node i\n",
    "a = [i for i in clients] # time between node i and depot\n",
    "z = a # The energy consumed from a drone’s battery by the time it arrives at the depot directly after leaving\n",
    "f = t #Enegry cosumed at location i"
   ]
  },
  {
   "cell_type": "code",
   "execution_count": 11,
   "id": "658f91e3-d2d0-4c41-a703-b6831fd7404a",
   "metadata": {},
   "outputs": [
    {
     "name": "stdout",
     "output_type": "stream",
     "text": [
      "[(1, 1), (1, 2), (1, 3), (1, 4), (1, 5), (1, 6), (1, 7), (1, 8), (1, 9), (1, 10), (2, 1), (2, 2), (2, 3), (2, 4), (2, 5), (2, 6), (2, 7), (2, 8), (2, 9), (2, 10), (3, 1), (3, 2), (3, 3), (3, 4), (3, 5), (3, 6), (3, 7), (3, 8), (3, 9), (3, 10), (4, 1), (4, 2), (4, 3), (4, 4), (4, 5), (4, 6), (4, 7), (4, 8), (4, 9), (4, 10), (5, 1), (5, 2), (5, 3), (5, 4), (5, 5), (5, 6), (5, 7), (5, 8), (5, 9), (5, 10), (6, 1), (6, 2), (6, 3), (6, 4), (6, 5), (6, 6), (6, 7), (6, 8), (6, 9), (6, 10), (7, 1), (7, 2), (7, 3), (7, 4), (7, 5), (7, 6), (7, 7), (7, 8), (7, 9), (7, 10), (8, 1), (8, 2), (8, 3), (8, 4), (8, 5), (8, 6), (8, 7), (8, 8), (8, 9), (8, 10), (9, 1), (9, 2), (9, 3), (9, 4), (9, 5), (9, 6), (9, 7), (9, 8), (9, 9), (9, 10), (10, 1), (10, 2), (10, 3), (10, 4), (10, 5), (10, 6), (10, 7), (10, 8), (10, 9), (10, 10)]\n"
     ]
    }
   ],
   "source": [
    "print(sigma_var)"
   ]
  },
  {
   "cell_type": "code",
   "execution_count": 12,
   "id": "2a4688ab-5fcd-4803-8f03-d5b4c5a90b6d",
   "metadata": {},
   "outputs": [],
   "source": [
    "# Costs\n",
    "s = {(i, j): np.hypot(xc[i]-xc[j], yc[i]-yc[j]) for i, j in arcs} # euclidean distances\n",
    "D = {i.number: i.demand for i in clients_list}# demand of client rnd.randint(1,5)"
   ]
  },
  {
   "cell_type": "code",
   "execution_count": 13,
   "id": "a2cf7030-9f7e-42f5-aa85-edeccde58dde",
   "metadata": {},
   "outputs": [
    {
     "name": "stdout",
     "output_type": "stream",
     "text": [
      "{1: 1, 2: 2, 3: 3, 4: 1, 5: 5, 6: 2, 7: 3, 8: 2, 9: 4, 10: 4}\n"
     ]
    }
   ],
   "source": [
    "print(D)"
   ]
  },
  {
   "cell_type": "code",
   "execution_count": 14,
   "id": "5d8d0acf-de0b-4eb0-a03a-fa380d988e7d",
   "metadata": {},
   "outputs": [
    {
     "name": "stdout",
     "output_type": "stream",
     "text": [
      "Restricted license - for non-production use only - expires 2023-10-25\n"
     ]
    }
   ],
   "source": [
    "### Creating the Model ###\n",
    "m = gp.Model('CVRP')"
   ]
  },
  {
   "cell_type": "code",
   "execution_count": 15,
   "id": "278e4ae6-6096-4572-a968-c4bf82429400",
   "metadata": {},
   "outputs": [],
   "source": [
    "# Adding decision variables\n",
    "x = m.addVars(arcs,vtype = GRB.BINARY,name='x') # x = arcs \n",
    "sigma = m.addVars(sigma_var,vtype = GRB.BINARY,name='sigma') \n",
    "y = m.addVars(y,vtype = GRB.CONTINUOUS,name='y') # payload weight between paths\n",
    "t = m.addVars(t,vtype = GRB.CONTINUOUS,name='t') # time at node i\n",
    "a = m.addVars(a,vtype = GRB.CONTINUOUS,name='a') # time between node i and the depot \n",
    "f = m.addVars(f,vtype = GRB.CONTINUOUS,name='f')\n",
    "z = m.addVars(z,vtype = GRB.CONTINUOUS,name='z')"
   ]
  },
  {
   "cell_type": "code",
   "execution_count": 16,
   "id": "64381eb3-5b34-4d8c-97e4-3595d6b2c7b8",
   "metadata": {},
   "outputs": [],
   "source": [
    "# Objective function\n",
    "m.setObjective(gp.quicksum(s[i,j]*x[i,j] for i,j in arcs),GRB.MINIMIZE)"
   ]
  },
  {
   "cell_type": "code",
   "execution_count": 17,
   "id": "191d8800-af3b-4e26-bc72-4a95421d71ff",
   "metadata": {},
   "outputs": [
    {
     "data": {
      "text/plain": [
       "{1: <gurobi.Constr *Awaiting Model Update*>,\n",
       " 2: <gurobi.Constr *Awaiting Model Update*>,\n",
       " 3: <gurobi.Constr *Awaiting Model Update*>,\n",
       " 4: <gurobi.Constr *Awaiting Model Update*>,\n",
       " 5: <gurobi.Constr *Awaiting Model Update*>,\n",
       " 6: <gurobi.Constr *Awaiting Model Update*>,\n",
       " 7: <gurobi.Constr *Awaiting Model Update*>,\n",
       " 8: <gurobi.Constr *Awaiting Model Update*>,\n",
       " 9: <gurobi.Constr *Awaiting Model Update*>,\n",
       " 10: <gurobi.Constr *Awaiting Model Update*>}"
      ]
     },
     "execution_count": 17,
     "metadata": {},
     "output_type": "execute_result"
    }
   ],
   "source": [
    "# Constraints\n",
    "m.addConstrs((gp.quicksum(x[i,j] for j in nodes if j!= i) == 1 for i in clients),\n",
    "             name = \"4a_\" + str(i)) # (4a) each node visited exactly once by a drone\n",
    "\n",
    "m.addConstrs((gp.quicksum(x[i,j] for j in nodes if j!= i)-gp.quicksum(x[j,i] for j in nodes if j!= i)== 0 for i in nodes),\n",
    "            name = '4b_' + str(i)) # (4b) when node i is visited, the drone leaves\n",
    "\n",
    "# Reusability Constraints\n",
    "m.addConstrs((gp.quicksum(sigma[i,j] for j in clients) <= x[i,0] for i in clients),\n",
    "            name = '5a_' + str(i)) # (5a) if drone comes back to depot from location i, it can fly again\n",
    "m.addConstrs((gp.quicksum(sigma[j,i] for j in clients) <= x[0,i] for i in clients),\n",
    "            name = '5b_' + str(i)) # (5b) if drone goes from depot to location i, it arrived previously from somewhere else\n",
    "m.addConstr((gp.quicksum(x[0,i] for i in clients) - gp.quicksum(sigma[i,j] for i,j in sigma_var if i!=j) <= M),\n",
    "           name = '5c_' + str(i)) # (5c) more than M drones cannot fly\n",
    "\n",
    "# Demand Constraints\n",
    "m.addConstrs((gp.quicksum(y[j,i] for j in nodes if j!=i) - gp.quicksum(y[i,j] for j in nodes if j!=i) == D[i] for i in clients),\n",
    "            name = '6a_' + str(i)) # (6a)\n",
    "m.addConstrs((y[i,j] <= K*x[i,j] for i,j in arcs if i!=j),\n",
    "            name = '6b_' + str(i)) # (6b)\n",
    "\n",
    "# Time Constraints\n",
    "m.addConstrs((t[i] - t[j] + s[i,j]/v <= K* (1-x[i,j]) for i,j in N_N_0 if i!=j),\n",
    "            name = '7a_' + str(i)) # (7a)\n",
    "m.addConstrs((t[i] - a[i] + s[i,0]/v <= K * (1 - x[i,0]) for i in clients),\n",
    "            name = '7b_' + str(i)) # (7b)\n",
    "m.addConstrs((a[i] - t[j] + s[0,j]/v <= K * (1 - sigma[i,j]) for i,j in sigma_var if i!=j),\n",
    "            name = '7c_' + str(i)) # (7c)\n",
    "m.addConstrs((t[i] <= T  for i in clients),\n",
    "            name = '7d_7e' + str(i)) # (7d)  and (7e) CHECK THIS CONSTRAINT\n",
    "\n",
    "# Capacity Constraints\n",
    "m.addConstrs((y[i,j] <= Q * x[i,j] for i,j in arcs if i!=j), \n",
    "             name = '8a_' + str(i)) #(8a)\n",
    "\n",
    "# Energy Constraints\n",
    "m.addConstrs((f[i] - f[j] + 28.5*s[i,j]/v <= K*(1-x[i,j]) for i,j in N_N_0 if i!=j), \n",
    "             name = '9a_' + str(i) )#(9a)\n",
    "m.addConstrs((f[i] - z[i] + 28.5*s[i,0]/v <= K * (1 - x[i,0]) for i in clients),\n",
    "            name = '9b_' + str(i))#(9b) \n",
    "m.addConstrs((z[i]<= K*x[i,0] for i in clients),\n",
    "            name = '9c' + str(i)) #9c"
   ]
  },
  {
   "cell_type": "code",
   "execution_count": 18,
   "id": "290edcda-f178-466a-b6e7-5015e0fe8af9",
   "metadata": {},
   "outputs": [
    {
     "name": "stdout",
     "output_type": "stream",
     "text": [
      "Set parameter TimeLimit to value 100\n",
      "Gurobi Optimizer version 9.5.0 build v9.5.0rc5 (mac64[x86])\n",
      "Thread count: 2 physical cores, 4 logical processors, using up to 4 threads\n",
      "Optimize a model with 602 rows, 362 columns and 2240 nonzeros\n",
      "Model fingerprint: 0x96f12dfd\n",
      "Variable types: 152 continuous, 210 integer (210 binary)\n",
      "Coefficient statistics:\n",
      "  Matrix range     [1e+00, 1e+02]\n",
      "  Objective range  [1e+01, 2e+02]\n",
      "  Bounds range     [1e+00, 1e+00]\n",
      "  RHS range        [1e+00, 4e+02]\n",
      "Presolve removed 0 rows and 12 columns\n",
      "Presolve time: 0.00s\n",
      "\n",
      "Explored 0 nodes (0 simplex iterations) in 0.02 seconds (0.00 work units)\n",
      "Thread count was 1 (of 4 available processors)\n",
      "\n",
      "Solution count 0\n",
      "\n",
      "Model is infeasible\n",
      "Best objective -, best bound -, gap -\n"
     ]
    }
   ],
   "source": [
    "m.Params.timeLimit = 100 #[s]\n",
    "m.optimize()"
   ]
  },
  {
   "cell_type": "code",
   "execution_count": 19,
   "id": "c45a2525-6bec-4aac-8a11-8d1ab92b8307",
   "metadata": {},
   "outputs": [
    {
     "ename": "AttributeError",
     "evalue": "Unable to retrieve attribute 'x'",
     "output_type": "error",
     "traceback": [
      "\u001b[0;31m---------------------------------------------------------------------------\u001b[0m",
      "\u001b[0;31mAttributeError\u001b[0m                            Traceback (most recent call last)",
      "\u001b[0;32m<ipython-input-19-1136fed49890>\u001b[0m in \u001b[0;36m<module>\u001b[0;34m\u001b[0m\n\u001b[1;32m      1\u001b[0m \u001b[0;31m#Plotting\u001b[0m\u001b[0;34m\u001b[0m\u001b[0;34m\u001b[0m\u001b[0;34m\u001b[0m\u001b[0m\n\u001b[0;32m----> 2\u001b[0;31m \u001b[0mactive_arcs\u001b[0m \u001b[0;34m=\u001b[0m \u001b[0;34m[\u001b[0m\u001b[0ma\u001b[0m \u001b[0;32mfor\u001b[0m \u001b[0ma\u001b[0m \u001b[0;32min\u001b[0m \u001b[0marcs\u001b[0m \u001b[0;32mif\u001b[0m \u001b[0mx\u001b[0m\u001b[0;34m[\u001b[0m\u001b[0ma\u001b[0m\u001b[0;34m]\u001b[0m\u001b[0;34m.\u001b[0m\u001b[0mx\u001b[0m \u001b[0;34m>\u001b[0m \u001b[0;36m0.99\u001b[0m\u001b[0;34m]\u001b[0m\u001b[0;34m\u001b[0m\u001b[0;34m\u001b[0m\u001b[0m\n\u001b[0m\u001b[1;32m      3\u001b[0m \u001b[0;34m\u001b[0m\u001b[0m\n\u001b[1;32m      4\u001b[0m \u001b[0;32mfor\u001b[0m \u001b[0mi\u001b[0m\u001b[0;34m,\u001b[0m \u001b[0mj\u001b[0m \u001b[0;32min\u001b[0m \u001b[0mactive_arcs\u001b[0m\u001b[0;34m:\u001b[0m\u001b[0;34m\u001b[0m\u001b[0;34m\u001b[0m\u001b[0m\n\u001b[1;32m      5\u001b[0m     \u001b[0mplt\u001b[0m\u001b[0;34m.\u001b[0m\u001b[0mplot\u001b[0m\u001b[0;34m(\u001b[0m\u001b[0;34m[\u001b[0m\u001b[0mxc\u001b[0m\u001b[0;34m[\u001b[0m\u001b[0mi\u001b[0m\u001b[0;34m]\u001b[0m\u001b[0;34m,\u001b[0m \u001b[0mxc\u001b[0m\u001b[0;34m[\u001b[0m\u001b[0mj\u001b[0m\u001b[0;34m]\u001b[0m\u001b[0;34m]\u001b[0m\u001b[0;34m,\u001b[0m \u001b[0;34m[\u001b[0m\u001b[0myc\u001b[0m\u001b[0;34m[\u001b[0m\u001b[0mi\u001b[0m\u001b[0;34m]\u001b[0m\u001b[0;34m,\u001b[0m \u001b[0myc\u001b[0m\u001b[0;34m[\u001b[0m\u001b[0mj\u001b[0m\u001b[0;34m]\u001b[0m\u001b[0;34m]\u001b[0m\u001b[0;34m,\u001b[0m \u001b[0mc\u001b[0m\u001b[0;34m=\u001b[0m\u001b[0;34m'g'\u001b[0m\u001b[0;34m,\u001b[0m \u001b[0mzorder\u001b[0m\u001b[0;34m=\u001b[0m\u001b[0;36m0\u001b[0m\u001b[0;34m)\u001b[0m\u001b[0;34m\u001b[0m\u001b[0;34m\u001b[0m\u001b[0m\n",
      "\u001b[0;32m<ipython-input-19-1136fed49890>\u001b[0m in \u001b[0;36m<listcomp>\u001b[0;34m(.0)\u001b[0m\n\u001b[1;32m      1\u001b[0m \u001b[0;31m#Plotting\u001b[0m\u001b[0;34m\u001b[0m\u001b[0;34m\u001b[0m\u001b[0;34m\u001b[0m\u001b[0m\n\u001b[0;32m----> 2\u001b[0;31m \u001b[0mactive_arcs\u001b[0m \u001b[0;34m=\u001b[0m \u001b[0;34m[\u001b[0m\u001b[0ma\u001b[0m \u001b[0;32mfor\u001b[0m \u001b[0ma\u001b[0m \u001b[0;32min\u001b[0m \u001b[0marcs\u001b[0m \u001b[0;32mif\u001b[0m \u001b[0mx\u001b[0m\u001b[0;34m[\u001b[0m\u001b[0ma\u001b[0m\u001b[0;34m]\u001b[0m\u001b[0;34m.\u001b[0m\u001b[0mx\u001b[0m \u001b[0;34m>\u001b[0m \u001b[0;36m0.99\u001b[0m\u001b[0;34m]\u001b[0m\u001b[0;34m\u001b[0m\u001b[0;34m\u001b[0m\u001b[0m\n\u001b[0m\u001b[1;32m      3\u001b[0m \u001b[0;34m\u001b[0m\u001b[0m\n\u001b[1;32m      4\u001b[0m \u001b[0;32mfor\u001b[0m \u001b[0mi\u001b[0m\u001b[0;34m,\u001b[0m \u001b[0mj\u001b[0m \u001b[0;32min\u001b[0m \u001b[0mactive_arcs\u001b[0m\u001b[0;34m:\u001b[0m\u001b[0;34m\u001b[0m\u001b[0;34m\u001b[0m\u001b[0m\n\u001b[1;32m      5\u001b[0m     \u001b[0mplt\u001b[0m\u001b[0;34m.\u001b[0m\u001b[0mplot\u001b[0m\u001b[0;34m(\u001b[0m\u001b[0;34m[\u001b[0m\u001b[0mxc\u001b[0m\u001b[0;34m[\u001b[0m\u001b[0mi\u001b[0m\u001b[0;34m]\u001b[0m\u001b[0;34m,\u001b[0m \u001b[0mxc\u001b[0m\u001b[0;34m[\u001b[0m\u001b[0mj\u001b[0m\u001b[0;34m]\u001b[0m\u001b[0;34m]\u001b[0m\u001b[0;34m,\u001b[0m \u001b[0;34m[\u001b[0m\u001b[0myc\u001b[0m\u001b[0;34m[\u001b[0m\u001b[0mi\u001b[0m\u001b[0;34m]\u001b[0m\u001b[0;34m,\u001b[0m \u001b[0myc\u001b[0m\u001b[0;34m[\u001b[0m\u001b[0mj\u001b[0m\u001b[0;34m]\u001b[0m\u001b[0;34m]\u001b[0m\u001b[0;34m,\u001b[0m \u001b[0mc\u001b[0m\u001b[0;34m=\u001b[0m\u001b[0;34m'g'\u001b[0m\u001b[0;34m,\u001b[0m \u001b[0mzorder\u001b[0m\u001b[0;34m=\u001b[0m\u001b[0;36m0\u001b[0m\u001b[0;34m)\u001b[0m\u001b[0;34m\u001b[0m\u001b[0;34m\u001b[0m\u001b[0m\n",
      "\u001b[0;32msrc/gurobipy/var.pxi\u001b[0m in \u001b[0;36mgurobipy.Var.__getattr__\u001b[0;34m()\u001b[0m\n",
      "\u001b[0;32msrc/gurobipy/var.pxi\u001b[0m in \u001b[0;36mgurobipy.Var.getAttr\u001b[0;34m()\u001b[0m\n",
      "\u001b[0;32msrc/gurobipy/attrutil.pxi\u001b[0m in \u001b[0;36mgurobipy.__getattr\u001b[0;34m()\u001b[0m\n",
      "\u001b[0;31mAttributeError\u001b[0m: Unable to retrieve attribute 'x'"
     ]
    }
   ],
   "source": [
    "#Plotting\n",
    "active_arcs = [a for a in arcs if x[a].x > 0.99]\n",
    "\n",
    "for i, j in active_arcs:\n",
    "    plt.plot([xc[i], xc[j]], [yc[i], yc[j]], c='g', zorder=0)\n",
    "plt.plot(xc[0], yc[0], c='r', marker='s')\n",
    "plt.scatter(xc[1:], yc[1:], c='b')\n",
    "plt.grid()\n",
    "plt.show()"
   ]
  },
  {
   "cell_type": "code",
   "execution_count": null,
   "id": "fd8cc458-89d2-417b-afbc-6aa5b4a58018",
   "metadata": {
    "tags": []
   },
   "outputs": [],
   "source": []
  },
  {
   "cell_type": "code",
   "execution_count": null,
   "id": "5ad83071-6823-4e36-a572-14c37ec20228",
   "metadata": {},
   "outputs": [],
   "source": []
  }
 ],
 "metadata": {
  "kernelspec": {
   "display_name": "Python 3",
   "language": "python",
   "name": "python3"
  },
  "language_info": {
   "codemirror_mode": {
    "name": "ipython",
    "version": 3
   },
   "file_extension": ".py",
   "mimetype": "text/x-python",
   "name": "python",
   "nbconvert_exporter": "python",
   "pygments_lexer": "ipython3",
   "version": "3.8.8"
  }
 },
 "nbformat": 4,
 "nbformat_minor": 5
}
