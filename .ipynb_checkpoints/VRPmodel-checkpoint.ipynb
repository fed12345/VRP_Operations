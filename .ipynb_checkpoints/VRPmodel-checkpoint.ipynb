{
 "cells": [
  {
   "cell_type": "markdown",
   "id": "bf2d6383-3676-4bff-9f4e-4584dd69cdb1",
   "metadata": {},
   "source": [
    "# *Drone Delivery: a Vehicle Routing Problem*\n",
    "\n",
    "Authors: Adrian Menor, Federico Magri, Youssef Farah\n",
    "\n",
    "This notebook shows the application of the VRP model developed by Dorling et al. in \"Vehicle Routing Problems for Drone Delivery\".\n",
    "\n",
    "The case study is based on the delivery of vaccines in remote villages in Burundi.\n",
    "The efforts against Covid-19 can be mostly effective when the majority of the world population is vaccinated. It is crucial that even the people living in the moste remote places in the world are vaccinated, to prevent any location where the disease can freely proliferate.\n",
    "For example, villages in Burundi are considered. The delivery of vaccines to these villages can hardly be performed with traditional means of transportation as infrastructures are missing. However, use of drone is possible, with the advantage of limiting contact between the villages and the people involved in the delivery process.\n",
    "\n",
    "\n"
   ]
  },
  {
   "cell_type": "markdown",
   "id": "17efc318-5ed2-40ef-ac4a-f7c087af3930",
   "metadata": {},
   "source": [
    "## Import Packages"
   ]
  },
  {
   "cell_type": "code",
   "execution_count": null,
   "id": "c033ff87-6a05-4176-ae0c-2c63e8d98fdb",
   "metadata": {},
   "outputs": [],
   "source": [
    "import pickle\n",
    "import pandas as pd\n",
    "import numpy as np\n",
    "import matplotlib.pyplot as plt\n",
    "import gurobipy as gp\n",
    "from gurobipy import GRB\n",
    "import timeit\n",
    "from geopy.distance import geodesic\n",
    "import pandas as pd\n",
    "rnd = np.random\n",
    "rnd.seed(0)"
   ]
  },
  {
   "cell_type": "markdown",
   "id": "7186d4ec-7c9e-4ee3-bb6f-9d9fca79aa9b",
   "metadata": {},
   "source": [
    "## VRP Model"
   ]
  },
  {
   "cell_type": "markdown",
   "id": "10fcc090-dbea-446c-9afd-4118bb12c039",
   "metadata": {},
   "source": [
    "### Classes "
   ]
  },
  {
   "cell_type": "code",
   "execution_count": null,
   "id": "f59c015e-da7b-41d6-9ea9-425dfba9bcaa",
   "metadata": {},
   "outputs": [],
   "source": [
    "class Drones():\n",
    "    def __init__(self, name, maxspeed, maxpayload, number_of_drones, power):\n",
    "        self.name = name\n",
    "        self.maxspeed = maxspeed\n",
    "        self.maxpayload = maxpayload\n",
    "        self.number_of_drones = number_of_drones\n",
    "        self.power = power\n",
    "\n",
    "class Clients():\n",
    "    number_of_clients = 0\n",
    "    depo_location = (-3.4333, 29.9000)\n",
    "    def __init__(self,id, number, name, lat, long, demand):\n",
    "        self.id = id\n",
    "        self.number = number\n",
    "        self.name = name\n",
    "        self.lat = lat\n",
    "        self.long = long\n",
    "        self.demand = demand\n",
    "        Clients.number_of_clients += 1"
   ]
  },
  {
   "cell_type": "markdown",
   "id": "5d136d91-e953-41ee-8bb5-a0200484adcd",
   "metadata": {},
   "source": [
    "### Sample Dataset"
   ]
  },
  {
   "cell_type": "code",
   "execution_count": null,
   "id": "039fe4ca-0347-477c-8c1a-38f1ee153188",
   "metadata": {},
   "outputs": [],
   "source": [
    "# import villages between 30 and 50 km\n",
    "client_50 = pd.read_csv('villages_test_verification.csv')"
   ]
  },
  {
   "cell_type": "code",
   "execution_count": null,
   "id": "81cee551-cb8f-4eba-b620-42e3dc4e9fd4",
   "metadata": {},
   "outputs": [],
   "source": [
    "Clients.number_of_clients = 0\n",
    "name = \"AAI RQ-7 Shadow\"\n",
    "max_speed = 36.1111\n",
    "max_payload = 10\n",
    "number_of_drones = 4\n",
    "energy_consumption = 28.5\n",
    "drones = Drones(name, max_speed, max_payload,number_of_drones, energy_consumption)\n",
    "client_list = []\n",
    "u = 1\n",
    "for index, i in client_50.iterrows():\n",
    "    \n",
    "    Client = Clients(i['id'], u,i['Name'],i['lat'],i['lon'],i['demand'])\n",
    "    client_list.append(Client)\n",
    "    u = u + 1\n",
    "               \n",
    "T = 10000 # [s] total delivery duration\n"
   ]
  },
  {
   "cell_type": "code",
   "execution_count": null,
   "id": "6a1e62f6-b338-4843-909f-e6aa7344fca5",
   "metadata": {},
   "outputs": [],
   "source": [
    "#Plotting the villages\n",
    "long = client_50['lon']\n",
    "lat = client_50['lat']\n",
    "depo_lat = -3.4333\n",
    "depo_long = 29.9000\n",
    "BBox = ((min(long)-0.1,   max(long)+0.1,  min(lat)-0.1, max(lat)+0.1))\n",
    "ruh_m = plt.imread('map.png')\n",
    "\n",
    "fig, ax = plt.subplots(figsize = (8,7))\n",
    "\n",
    "ax.plot(depo_long, depo_lat, c='r', marker='s')\n",
    "ax.scatter(long, lat, c='b')\n",
    "ax.set_xlim(BBox[0],BBox[1])\n",
    "ax.set_ylim(BBox[2],BBox[3])\n",
    "\n",
    "ax.imshow(ruh_m, zorder=0, extent = BBox, aspect= 'equal')\n",
    "plt.show()"
   ]
  },
  {
   "cell_type": "markdown",
   "id": "21699d32-f9c8-4a31-8425-d361adade6e7",
   "metadata": {},
   "source": [
    "## Model Setup"
   ]
  },
  {
   "cell_type": "code",
   "execution_count": null,
   "id": "8245223f-2d32-4545-a9cb-6fddcf42c79d",
   "metadata": {
    "tags": []
   },
   "outputs": [],
   "source": [
    "# Basic problem variables\n",
    "n = Clients.number_of_clients # nodes\n",
    "clients = [i for i in range(1,n+1)]   # N_0\n",
    "nodes = [0]+clients                   # N\n",
    "N_N_0 = [(i,j) for i in nodes for j in clients if i!=j]\n",
    "lat= [Clients.depo_location[0]]+[xc.lat for xc in client_list] # customer x locations\n",
    "long = [Clients.depo_location[1]]+[yc.long for yc in client_list] #rnd.rand(n-1)*100 # customer y locations\n"
   ]
  },
  {
   "cell_type": "code",
   "execution_count": null,
   "id": "414094de-9a38-418f-b3d7-bfca460fb1ca",
   "metadata": {},
   "outputs": [],
   "source": [
    "# Drone parameters\n",
    "M = drones.number_of_drones # Number of drones\n",
    "K = 1000000                 # upper bound payload weight [kg]\n",
    "v = drones.maxspeed         # drone speed                [m/s]\n",
    "Q = drones.maxpayload       # max drone payload [kg] \n",
    "p = drones.power            #Power Consumption [kW]"
   ]
  },
  {
   "cell_type": "code",
   "execution_count": null,
   "id": "468b048c-13e0-4839-8c57-a7b008438427",
   "metadata": {
    "tags": []
   },
   "outputs": [],
   "source": [
    "# Decision variables\n",
    "arcs = [(i,j) for i in nodes for j in nodes if i!=j]      # fully connected links (N x N)\n",
    "sigma_var = [(i,j) for i in clients for j in clients ]    # going through depot\n",
    "y = arcs # payload weight between paths\n",
    "t = [i for i in nodes] # time at node i\n",
    "a = [i for i in clients] # time between node i and depot\n",
    "z = a # The energy consumed from a drone’s battery by the time it arrives at the depot directly after leaving\n",
    "f = t #Enegry cosumed at location i"
   ]
  },
  {
   "cell_type": "code",
   "execution_count": null,
   "id": "2a4688ab-5fcd-4803-8f03-d5b4c5a90b6d",
   "metadata": {},
   "outputs": [],
   "source": [
    "# Costs\n",
    "s = {(i, j): geodesic((lat[i],long[i]),(lat[j],long[j])).m for i, j in arcs} # euclidean distances TODO change km to m\n",
    "D = {i.number: i.demand for i in client_list}# demand of client rnd.randint(1,5)\n"
   ]
  },
  {
   "cell_type": "code",
   "execution_count": null,
   "id": "5d8d0acf-de0b-4eb0-a03a-fa380d988e7d",
   "metadata": {},
   "outputs": [],
   "source": [
    "### Creating the Model ###\n",
    "m = gp.Model('CVRP')"
   ]
  },
  {
   "cell_type": "code",
   "execution_count": null,
   "id": "278e4ae6-6096-4572-a968-c4bf82429400",
   "metadata": {},
   "outputs": [],
   "source": [
    "# Adding decision variables\n",
    "x = m.addVars(arcs,vtype = GRB.BINARY,name='x') # x = arcs \n",
    "sigma = m.addVars(sigma_var,vtype = GRB.BINARY,name='sigma') \n",
    "y = m.addVars(y,vtype = GRB.CONTINUOUS,name='y') # payload weight between paths\n",
    "t = m.addVars(t,vtype = GRB.CONTINUOUS,name='t') # time at node i\n",
    "a = m.addVars(a,vtype = GRB.CONTINUOUS,name='a') # time between node i and the depot \n",
    "f = m.addVars(f,vtype = GRB.CONTINUOUS,name='f')\n",
    "z = m.addVars(z,vtype = GRB.CONTINUOUS,name='z')\n",
    "m.update()"
   ]
  },
  {
   "cell_type": "code",
   "execution_count": null,
   "id": "64381eb3-5b34-4d8c-97e4-3595d6b2c7b8",
   "metadata": {},
   "outputs": [],
   "source": [
    "# Objective function\n",
    "m.setObjective(gp.quicksum(s[i,j]*x[i,j] for i,j in arcs),GRB.MINIMIZE)"
   ]
  },
  {
   "cell_type": "code",
   "execution_count": null,
   "id": "191d8800-af3b-4e26-bc72-4a95421d71ff",
   "metadata": {},
   "outputs": [],
   "source": [
    "# Constraints\n",
    "m.addConstrs((gp.quicksum(x[i,j] for j in nodes if j!= i) == 1 for i in clients),name = \"4a\") # (4a) each node visited exactly once by a drone\n",
    "m.addConstrs((gp.quicksum(x[i,j] for j in nodes if j!= i)-gp.quicksum(x[j,i] for j in nodes if j!= i)== 0 for i in nodes),name = \"4b\") # (4b) when node i is visited, the drone leaves\n",
    "\n",
    "# Reusability Constraints\n",
    "m.addConstrs((gp.quicksum(sigma[i,j] for j in clients) <= x[i,0] for i in clients),name = \"5a\") # (5a) if drone comes back to depot from location i, it can fly again\n",
    "m.addConstrs((gp.quicksum(sigma[j,i] for j in clients) <= x[0,i] for i in clients),name = \"5b\") # (5b) if drone goes from depot to location i, it arrived previously from somewhere else\n",
    "\n",
    "m.addConstr((gp.quicksum(x[0,i] for i in clients) - gp.quicksum(sigma[i,j] for i,j in sigma_var if i!=j) <= M),name=\"5c\") # (5c) more than M drones cannot fly simultaneously\n",
    "\n",
    "# Demand Constraints\n",
    "m.addConstrs((gp.quicksum(y[j,i] for j in nodes if j!=i) - gp.quicksum(y[i,j] for j in nodes if j!=i)==D[i] for i in clients), name = '6a') # (6a) payload when leaving i less than arriving i with Di kg less\n",
    "\n",
    "m.addConstrs((y[i,j] <= K*x[i,j] for i,j in arcs if i!=j),name = \"6b\") # (6b) sets the payload weight of each edge without a vehicle to 0 kg\n",
    "\n",
    "# Time Constraints\n",
    "m.addConstrs((t[i] - t[j] + s[i,j]/v <= K* (1-x[i,j]) for i,j in N_N_0 if i!=j),name = \"7a\") # (7a) keeps track of time i that each location i is visited by a drone\n",
    "m.addConstrs((t[i] - a[i] + s[i,0]/v <= K * (1 - x[i,0]) for i in clients),name = \"7b\") # (7b) keeps track of the time ai that a drone arrives at the depot from location i \n",
    "m.addConstrs((a[i] - t[j] + s[0,j]/v <= K * (1 - sigma[i,j]) for i,j in sigma_var if i!=j),name = \"7c\") # (7c) ensures that times are correct for drones that are reused after returning to the depot\n",
    "m.addConstrs((t[i] <= T  for i in clients),name = \"7d_7e\") # (7d)  and (7e) checks delivery time \n",
    "\n",
    "# Capacity Constraints\n",
    "m.addConstrs((y[i,j] <= Q * x[i,j] for i,j in arcs if i!=j), name = \"8a\") #(8a) capacity of drone between i and j is restricted by Q\n",
    "\n",
    "# Energy Constraints\n",
    "m.addConstrs((f[i] - f[j] + p*s[i,j]/v <= K*(1-x[i,j]) for i,j in N_N_0 if i!=j), name = \"9a\")#(9a) forces fi to equal the total energy consumed along the route up to location i.\n",
    "m.addConstrs((f[i] - z[i] + p*s[i,0]/v <= K * (1 - x[i,0]) for i in clients),name = \"9b\")#(9b) makes zi equal to the energy consumedflying the entire route that ends at location i\n",
    "m.addConstrs((z[i]<= K*x[i,0] for i in clients),name = \"9c\") #9c"
   ]
  },
  {
   "cell_type": "code",
   "execution_count": null,
   "id": "290edcda-f178-466a-b6e7-5015e0fe8af9",
   "metadata": {},
   "outputs": [],
   "source": [
    "m.update()\n",
    "m.Params.timeLimit = 200 #[s]\n",
    "m.Params.MIPGap = 0\n",
    "m.optimize()\n",
    "#Writing LP file\n",
    "m.write('model_lab.lp')"
   ]
  },
  {
   "cell_type": "markdown",
   "id": "e7bf14a0-ad33-4932-a3e6-baa96380408e",
   "metadata": {},
   "source": [
    "## Results"
   ]
  },
  {
   "cell_type": "code",
   "execution_count": null,
   "id": "c45a2525-6bec-4aac-8a11-8d1ab92b8307",
   "metadata": {},
   "outputs": [],
   "source": [
    "def loop_finder(arc):\n",
    "    starting_list = []\n",
    "    for i in range(0,len(arc)):\n",
    "        if arc[i][0] == 0:\n",
    "            starting_list.append(arc[i])\n",
    "    sorted_list = []\n",
    "    for i in range(0, len(starting_list)):\n",
    "        sorted_list.append(starting_list[i])\n",
    "        j = 0\n",
    "        while j < len(arc):\n",
    "            j += 1\n",
    "            if sorted_list[-1][1]== arc[j][0]:\n",
    "                sorted_list.append(arc[j])\n",
    "                j = 0 \n",
    "            if sorted_list[-1][1]== 0:\n",
    "                j = len(arc)\n",
    "    index = []\n",
    "    for i in range(0,len(sorted_list)):\n",
    "        if sorted_list[i][0]== 0:\n",
    "            index.append(i)\n",
    "    #print(len(index))\n",
    "    index.append(len(sorted_list))\n",
    "    loops = []\n",
    "    for i in range(0,len(index)):\n",
    "        loops.append(sorted_list[index[i-1]:index[i]])\n",
    "    loops = loops[1:]\n",
    "    return loops\n",
    "\n",
    "#Plotting\n",
    "plt.style.use('seaborn-darkgrid')\n",
    "BBox = ((min(long)-0.1,   max(long)+0.1,  min(lat)-0.1, max(lat)+0.1))\n",
    "#ruh_m = plt.imread('map.png')\n",
    "\n",
    "active_arcs = [a for a in arcs if x[a].x > 0.99]\n",
    "sorted_arcs = loop_finder(active_arcs)\n",
    "fig, ax = plt.subplots(figsize = (8,7))\n",
    "color = ['g','r','b','y','g','r','b','y','g','r','b','y','g','r','b','y']\n",
    "\n",
    "linestyle = [':' ]\n",
    "for k in range(len(sorted_arcs)):\n",
    "    for i, j in sorted_arcs[k]:\n",
    "        \n",
    "        ax.plot([long[i], long[j]], [lat[i], lat[j]],color = color[k], linestyle= ':', zorder=1)  \n",
    "        ax.annotate(nodes[i], (long[i]+0.01, lat[i]+0.01))\n",
    "ax.plot(long[0], lat[0], c='r', marker='s')\n",
    "ax.scatter(long[1:], lat[1:], c='b')\n",
    "\n",
    "ax.set_xlim(BBox[0],BBox[1])\n",
    "ax.set_ylim(BBox[2],BBox[3])\n",
    "#ax.imshow(ruh_m, zorder=0, extent = BBox, aspect= 'equal')\n",
    "\n",
    "plt.show()\n",
    "\n"
   ]
  },
  {
   "cell_type": "code",
   "execution_count": null,
   "id": "fd8cc458-89d2-417b-afbc-6aa5b4a58018",
   "metadata": {
    "tags": []
   },
   "outputs": [],
   "source": [
    "print(str(m.objVal/1000) + ' km') # objective function value"
   ]
  },
  {
   "cell_type": "code",
   "execution_count": null,
   "id": "470ed1a9-0c71-4d98-bd3e-c7f32154136c",
   "metadata": {},
   "outputs": [],
   "source": [
    "for v in m.getVars():\n",
    "       print(str(v.VarName)+'='+str(v.x))   # print all decision variables"
   ]
  }
 ],
 "metadata": {
  "kernelspec": {
   "display_name": "Python 3 (ipykernel)",
   "language": "python",
   "name": "python3"
  },
  "language_info": {
   "codemirror_mode": {
    "name": "ipython",
    "version": 3
   },
   "file_extension": ".py",
   "mimetype": "text/x-python",
   "name": "python",
   "nbconvert_exporter": "python",
   "pygments_lexer": "ipython3",
   "version": "3.8.8"
  }
 },
 "nbformat": 4,
 "nbformat_minor": 5
}
